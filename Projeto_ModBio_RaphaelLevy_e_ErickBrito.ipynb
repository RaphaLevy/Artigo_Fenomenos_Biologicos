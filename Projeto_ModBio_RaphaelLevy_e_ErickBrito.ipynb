{
 "cells": [
  {
   "cell_type": "code",
   "execution_count": 8,
   "metadata": {},
   "outputs": [],
   "source": [
    "%matplotlib inline\n",
    "\n",
    "import numpy as np\n",
    "import matplotlib.pyplot as plt\n",
    "from scipy.integrate import odeint\n",
    "\n",
    "#S = concentração do substrato = Sf - S0 (g/litro) \n",
    "#X = concentração de massa celular (g/litro) \n",
    "#V = volume (litro)\n",
    "#f_vol = fluxo volumétrico (dV/dt)\n",
    "\n",
    "# parameter values\n",
    "\n",
    "mumax = 0.20      # 1/hora #taxa máxima de crescimento específica\n",
    "Ks = 1.00         # g/litro #constante de saturação\n",
    "Yxs = 0.5         # g/g #coeficiente de rendimento (massa celular/massa do substrato limitante)\n",
    "Ypx = 0.2         # g/g #coeficiente de rendimento (massa de produto formado/massa celular)\n",
    "D = 0.50              # 1/hora #taxa de diluição \n",
    "S0 = 10.0         # g/litro #concentração do substrato de entrada\n",
    "Sf = 20.0         # g/litro #concentração do substrato de saída"
   ]
  },
  {
   "cell_type": "code",
   "execution_count": 7,
   "metadata": {},
   "outputs": [],
   "source": [
    "# definição de parâmetros\n",
    "\n",
    "def mu(S):\n",
    "    return mumax*S/(Ks + S)\n",
    "\n",
    "# equações diferenciais\n",
    "\n",
    "def xdot(x,t):\n",
    "    X,S,V = x\n",
    "    dX = mu*X-D*X\n",
    "    dS = D*S0 - D*Sf - (mu*X)/Y\n",
    "    dV = F(t)\n",
    "    return [dX,dP,dS,dV]"
   ]
  },
  {
   "cell_type": "code",
   "execution_count": null,
   "metadata": {},
   "outputs": [],
   "source": []
  }
 ],
 "metadata": {
  "kernelspec": {
   "display_name": "SageMath 9.2",
   "language": "sage",
   "name": "sagemath"
  },
  "language_info": {
   "codemirror_mode": {
    "name": "ipython",
    "version": 3
   },
   "file_extension": ".py",
   "mimetype": "text/x-python",
   "name": "python",
   "nbconvert_exporter": "python",
   "pygments_lexer": "ipython3",
   "version": "3.7.7"
  }
 },
 "nbformat": 4,
 "nbformat_minor": 4
}
