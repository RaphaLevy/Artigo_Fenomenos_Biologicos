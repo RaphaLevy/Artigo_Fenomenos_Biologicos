{
 "cells": [
  {
   "cell_type": "code",
   "execution_count": 2,
   "metadata": {},
   "outputs": [],
   "source": [
    "%display typeset"
   ]
  },
  {
   "cell_type": "markdown",
   "metadata": {},
   "source": [
    "Calculando dX/dt:"
   ]
  },
  {
   "cell_type": "code",
   "execution_count": 3,
   "metadata": {},
   "outputs": [
    {
     "data": {
      "text/html": [
       "<html><script type=\"math/tex; mode=display\">\\newcommand{\\Bold}[1]{\\mathbf{#1}}\\frac{\\partial}{\\partial t}X\\left(t\\right) = -D X\\left(t\\right) + \\mu X\\left(t\\right)</script></html>"
      ],
      "text/latex": [
       "\\begin{math}\n",
       "\\newcommand{\\Bold}[1]{\\mathbf{#1}}\\frac{\\partial}{\\partial t}X\\left(t\\right) = -D X\\left(t\\right) + \\mu X\\left(t\\right)\n",
       "\\end{math}"
      ],
      "text/plain": [
       "diff(X(t), t) == -D*X(t) + mu*X(t)"
      ]
     },
     "execution_count": 3,
     "metadata": {},
     "output_type": "execute_result"
    }
   ],
   "source": [
    "var('X mu D t')\n",
    "X = function('X')(t)\n",
    "dxdt = diff(X,t) == mu*X-D*X\n",
    "dxdt"
   ]
  },
  {
   "cell_type": "markdown",
   "metadata": {},
   "source": [
    "Calculando dS/dt:"
   ]
  },
  {
   "cell_type": "code",
   "execution_count": 4,
   "metadata": {},
   "outputs": [
    {
     "data": {
      "text/html": [
       "<html><script type=\"math/tex; mode=display\">\\newcommand{\\Bold}[1]{\\mathbf{#1}}\\frac{\\partial}{\\partial t}S\\left(t\\right) = D \\mathit{Sf} - D S\\left(t\\right) - \\frac{X \\mu}{Y}</script></html>"
      ],
      "text/latex": [
       "\\begin{math}\n",
       "\\newcommand{\\Bold}[1]{\\mathbf{#1}}\\frac{\\partial}{\\partial t}S\\left(t\\right) = D \\mathit{Sf} - D S\\left(t\\right) - \\frac{X \\mu}{Y}\n",
       "\\end{math}"
      ],
      "text/plain": [
       "diff(S(t), t) == D*Sf - D*S(t) - X*mu/Y"
      ]
     },
     "execution_count": 4,
     "metadata": {},
     "output_type": "execute_result"
    }
   ],
   "source": [
    "var('S mu D Sf X Y t')\n",
    "S = function('S')(t)\n",
    "dsdt = diff(S,t) == D*Sf - D*S -(mu*X/Y)\n",
    "dsdt"
   ]
  },
  {
   "cell_type": "markdown",
   "metadata": {},
   "source": [
    "Desenvolvendo a matriz jacobiana:"
   ]
  },
  {
   "cell_type": "code",
   "execution_count": 6,
   "metadata": {},
   "outputs": [
    {
     "data": {
      "text/html": [
       "<html><script type=\"math/tex; mode=display\">\\newcommand{\\Bold}[1]{\\mathbf{#1}}\\left(\\begin{array}{rr}\n",
       "-D + \\mu & 0 \\\\\n",
       "-\\frac{\\mu}{Y} & -D\n",
       "\\end{array}\\right)</script></html>"
      ],
      "text/latex": [
       "\\begin{math}\n",
       "\\newcommand{\\Bold}[1]{\\mathbf{#1}}\\left(\\begin{array}{rr}\n",
       "-D + \\mu & 0 \\\\\n",
       "-\\frac{\\mu}{Y} & -D\n",
       "\\end{array}\\right)\n",
       "\\end{math}"
      ],
      "text/plain": [
       "[-D + mu       0]\n",
       "[  -mu/Y      -D]"
      ]
     },
     "execution_count": 6,
     "metadata": {},
     "output_type": "execute_result"
    }
   ],
   "source": [
    "var('S X mu D Y Sf x s')\n",
    "J = jacobian([mu*x-D*x, D*Sf - D*s -(mu*x/Y)],[x,s])\n",
    "J"
   ]
  },
  {
   "cell_type": "markdown",
   "metadata": {},
   "source": [
    "Calculando o traço (p):"
   ]
  },
  {
   "cell_type": "code",
   "execution_count": 15,
   "metadata": {},
   "outputs": [
    {
     "data": {
      "text/html": [
       "<html><script type=\"math/tex; mode=display\">\\newcommand{\\Bold}[1]{\\mathbf{#1}}-2 \\, D + \\mu</script></html>"
      ],
      "text/latex": [
       "\\begin{math}\n",
       "\\newcommand{\\Bold}[1]{\\mathbf{#1}}-2 \\, D + \\mu\n",
       "\\end{math}"
      ],
      "text/plain": [
       "-2*D + mu"
      ]
     },
     "execution_count": 15,
     "metadata": {},
     "output_type": "execute_result"
    }
   ],
   "source": [
    "J.trace()"
   ]
  },
  {
   "cell_type": "markdown",
   "metadata": {},
   "source": [
    "Calculando o determinante (q):"
   ]
  },
  {
   "cell_type": "code",
   "execution_count": 16,
   "metadata": {},
   "outputs": [
    {
     "data": {
      "text/html": [
       "<html><script type=\"math/tex; mode=display\">\\newcommand{\\Bold}[1]{\\mathbf{#1}}{\\left(D - \\mu\\right)} D</script></html>"
      ],
      "text/latex": [
       "\\begin{math}\n",
       "\\newcommand{\\Bold}[1]{\\mathbf{#1}}{\\left(D - \\mu\\right)} D\n",
       "\\end{math}"
      ],
      "text/plain": [
       "(D - mu)*D"
      ]
     },
     "execution_count": 16,
     "metadata": {},
     "output_type": "execute_result"
    }
   ],
   "source": [
    "J.det()"
   ]
  },
  {
   "cell_type": "markdown",
   "metadata": {},
   "source": [
    "Autovalores:"
   ]
  },
  {
   "cell_type": "code",
   "execution_count": 25,
   "metadata": {},
   "outputs": [
    {
     "data": {
      "text/html": [
       "<html><script type=\"math/tex; mode=display\">\\newcommand{\\Bold}[1]{\\mathbf{#1}}\\left[-D + \\mu, -D\\right]</script></html>"
      ],
      "text/latex": [
       "\\begin{math}\n",
       "\\newcommand{\\Bold}[1]{\\mathbf{#1}}\\left[-D + \\mu, -D\\right]\n",
       "\\end{math}"
      ],
      "text/plain": [
       "[-D + mu, -D]"
      ]
     },
     "execution_count": 25,
     "metadata": {},
     "output_type": "execute_result"
    }
   ],
   "source": [
    "J.eigenvalues()"
   ]
  },
  {
   "cell_type": "markdown",
   "metadata": {},
   "source": [
    "Os autovalores são reais e distintos, já que mu != 0 (mu é taxa de crescimento específica; 1/Tempo): "
   ]
  },
  {
   "cell_type": "markdown",
   "metadata": {},
   "source": [
    "Se mu>D, os sinais dos autovalores são opostos: Equilíbrio em ponto de sela\n",
    "\n",
    "Se mu<D, os sinais dos autovalores são iguais, nesse caso negativos, já que D é taxa de diluição e portanto não pode ser negativo: Equilíbrio pontual estável\n",
    "\n",
    "Se mu=D, um dos autovalores será 0:.....?"
   ]
  },
  {
   "cell_type": "markdown",
   "metadata": {},
   "source": [
    "Polinômio característico:"
   ]
  },
  {
   "cell_type": "code",
   "execution_count": 26,
   "metadata": {},
   "outputs": [
    {
     "data": {
      "text/html": [
       "<html><script type=\"math/tex; mode=display\">\\newcommand{\\Bold}[1]{\\mathbf{#1}}x^{2} + \\left(2 \\, D - \\mu\\right) x + D^{2} - D \\mu</script></html>"
      ],
      "text/latex": [
       "\\begin{math}\n",
       "\\newcommand{\\Bold}[1]{\\mathbf{#1}}x^{2} + \\left(2 \\, D - \\mu\\right) x + D^{2} - D \\mu\n",
       "\\end{math}"
      ],
      "text/plain": [
       "x^2 + (2*D - mu)*x + D^2 - D*mu"
      ]
     },
     "execution_count": 26,
     "metadata": {},
     "output_type": "execute_result"
    }
   ],
   "source": [
    "J.characteristic_polynomial()"
   ]
  },
  {
   "cell_type": "code",
   "execution_count": 20,
   "metadata": {},
   "outputs": [
    {
     "name": "stdout",
     "output_type": "stream",
     "text": [
      "<built-in method trace of sage.matrix.matrix_symbolic_dense.Matrix_symbolic_dense object at 0x6ffed0a61d50>\n",
      "<built-in method det of sage.matrix.matrix_symbolic_dense.Matrix_symbolic_dense object at 0x6ffed0a61d50>\n"
     ]
    }
   ],
   "source": [
    "p = J.trace\n",
    "print(p)\n",
    "\n",
    "q = J.det\n",
    "print(q)"
   ]
  },
  {
   "cell_type": "markdown",
   "metadata": {},
   "source": [
    "Δ=p^2-4*q"
   ]
  },
  {
   "cell_type": "markdown",
   "metadata": {},
   "source": [
    "p^2 = (mu-2D)^2 = mu^2 -4muD +4D^2\n",
    "4q = 4(D^2 - muD) = 4D^2 - 4muD\n",
    "\n",
    "Δ = mu^2 -4muD +4D^2 - (4D^2 - 4muD) = mu^2"
   ]
  },
  {
   "cell_type": "markdown",
   "metadata": {},
   "source": [
    "Calculando o equilíbrio pontual do sistema:"
   ]
  },
  {
   "cell_type": "code",
   "execution_count": 28,
   "metadata": {},
   "outputs": [
    {
     "data": {
      "text/html": [
       "<html><script type=\"math/tex; mode=display\">\\newcommand{\\Bold}[1]{\\mathbf{#1}}\\left[\\left[x = 0, s = \\mathit{Sf}\\right]\\right]</script></html>"
      ],
      "text/latex": [
       "\\begin{math}\n",
       "\\newcommand{\\Bold}[1]{\\mathbf{#1}}\\left[\\left[x = 0, s = \\mathit{Sf}\\right]\\right]\n",
       "\\end{math}"
      ],
      "text/plain": [
       "[[x == 0, s == Sf]]"
      ]
     },
     "execution_count": 28,
     "metadata": {},
     "output_type": "execute_result"
    }
   ],
   "source": [
    "var('S X mu D Y Sf x s')\n",
    "xdot(x,s) = mu*x-D*x\n",
    "sdot(x,s) = D*Sf - D*s -(mu*x/Y)\n",
    "solve([xdot, sdot], [x,s])"
   ]
  },
  {
   "cell_type": "markdown",
   "metadata": {},
   "source": [
    "*-----------------------------------------------------------------------------------------------------*"
   ]
  },
  {
   "cell_type": "code",
   "execution_count": 13,
   "metadata": {},
   "outputs": [
    {
     "data": {
      "text/html": [
       "<html><script type=\"math/tex; mode=display\">\\newcommand{\\Bold}[1]{\\mathbf{#1}}\\verb|Raízes=| \\left[x = 0\\right]</script></html>"
      ],
      "text/latex": [
       "\\begin{math}\n",
       "\\newcommand{\\Bold}[1]{\\mathbf{#1}}\\verb|Raízes=| \\left[x = 0\\right]\n",
       "\\end{math}"
      ],
      "text/plain": [
       "'Raízes=' [x == 0]"
      ]
     },
     "metadata": {},
     "output_type": "display_data"
    },
    {
     "data": {
      "image/png": "[encoded data removed]",
      "text/plain": [
       "Graphics object consisting of 2 graphics primitives"
      ]
     },
     "execution_count": 13,
     "metadata": {},
     "output_type": "execute_result"
    }
   ],
   "source": [
    "var('mu D')\n",
    "f(x) = mu*x - D*x\n",
    "raízes = solve(f,x)\n",
    "show(\"Raízes=\",raízes)\n",
    "F=plot(f(mu=2, D=1),(x,-2,2))\n",
    "P=points([(0,0)], pointsize=30, color='red')\n",
    "F+P"
   ]
  },
  {
   "cell_type": "code",
   "execution_count": 16,
   "metadata": {},
   "outputs": [
    {
     "data": {
      "text/html": [
       "<html><script type=\"math/tex; mode=display\">\\newcommand{\\Bold}[1]{\\mathbf{#1}}\\verb|Raízes=| \\left[s = \\frac{D \\mathit{Sf} Y - X \\mu}{D Y}\\right]</script></html>"
      ],
      "text/latex": [
       "\\begin{math}\n",
       "\\newcommand{\\Bold}[1]{\\mathbf{#1}}\\verb|Raízes=| \\left[s = \\frac{D \\mathit{Sf} Y - X \\mu}{D Y}\\right]\n",
       "\\end{math}"
      ],
      "text/plain": [
       "'Raízes=' [s == (D*Sf*Y - X*mu)/(D*Y)]"
      ]
     },
     "metadata": {},
     "output_type": "display_data"
    },
    {
     "data": {
      "image/png": "[encoded data removed]",
      "text/plain": [
       "Graphics object consisting of 2 graphics primitives"
      ]
     },
     "execution_count": 16,
     "metadata": {},
     "output_type": "execute_result"
    }
   ],
   "source": [
    "var('mu D Sf X Y')\n",
    "f(s) = D*Sf - D*s -(mu*X/Y)\n",
    "raízes = solve(f,s)\n",
    "show(\"Raízes=\",raízes)\n",
    "F=plot(s(mu=2, D=1, Sf=20, X=0, Y=0.8),(s,-2,2))\n",
    "P=points([(0,0)], pointsize=30, color='red')\n",
    "F+P"
   ]
  },
  {
   "cell_type": "code",
   "execution_count": 17,
   "metadata": {},
   "outputs": [
    {
     "data": {
      "text/html": [
       "<html><script type=\"math/tex; mode=display\">\\newcommand{\\Bold}[1]{\\mathbf{#1}}\\verb|Raízes=| \\left[s = \\frac{D \\mathit{Sf} Y - \\mu x}{D Y}\\right]</script></html>"
      ],
      "text/latex": [
       "\\begin{math}\n",
       "\\newcommand{\\Bold}[1]{\\mathbf{#1}}\\verb|Raízes=| \\left[s = \\frac{D \\mathit{Sf} Y - \\mu x}{D Y}\\right]\n",
       "\\end{math}"
      ],
      "text/plain": [
       "'Raízes=' [s == (D*Sf*Y - mu*x)/(D*Y)]"
      ]
     },
     "metadata": {},
     "output_type": "display_data"
    },
    {
     "data": {
      "image/png": "[encoded data removed]",
      "text/plain": [
       "Graphics object consisting of 2 graphics primitives"
      ]
     },
     "execution_count": 17,
     "metadata": {},
     "output_type": "execute_result"
    }
   ],
   "source": [
    "var('mu D Sf Y')\n",
    "f(s) = D*Sf - D*s -(mu*x/Y)\n",
    "raízes = solve(f,s)\n",
    "show(\"Raízes=\",raízes)\n",
    "F=plot(s(mu=2, D=1, Sf=20, X=0, Y=0.8),(s,-2,2))\n",
    "P=points([(0,0)], pointsize=30, color='red')\n",
    "F+P"
   ]
  },
  {
   "cell_type": "code",
   "execution_count": 19,
   "metadata": {},
   "outputs": [],
   "source": [
    "def fun(t,y):\n",
    "    x,s = y\n",
    "    return [Y*(Sf-(Ks*D)/(mumax-D)),\n",
    "            Ks*D/(mumax-D)]"
   ]
  },
  {
   "cell_type": "code",
   "execution_count": 27,
   "metadata": {},
   "outputs": [
    {
     "data": {
      "text/html": [
       "<html><script type=\"math/tex; mode=display\">\\newcommand{\\Bold}[1]{\\mathbf{#1}}\\begin{array}{l}\n",
       "\\verb|T|\\phantom{\\verb!x!}\\verb|=|\\phantom{\\verb!x!}\\verb|ode_solver()|\\\\\n",
       "\\verb|T.algorithm='rk8pd'|\\\\\n",
       "\\verb|T.function|\\phantom{\\verb!x!}\\verb|=|\\phantom{\\verb!x!}\\verb|fun|\\\\\n",
       "\\verb|y0=[1,0]|\\\\\n",
       "\\verb|T.ode_solve(t_span=[0,10],y_0=y0,|\\phantom{\\verb!x!}\\verb|num_points=100)|\n",
       "\\end{array}</script></html>"
      ],
      "text/latex": [
       "\\begin{math}\n",
       "\\newcommand{\\Bold}[1]{\\mathbf{#1}}\\begin{array}{l}\n",
       "\\verb|T|\\phantom{\\verb!x!}\\verb|=|\\phantom{\\verb!x!}\\verb|ode_solver()|\\\\\n",
       "\\verb|T.algorithm='rk8pd'|\\\\\n",
       "\\verb|T.function|\\phantom{\\verb!x!}\\verb|=|\\phantom{\\verb!x!}\\verb|fun|\\\\\n",
       "\\verb|y0=[1,0]|\\\\\n",
       "\\verb|T.ode_solve(t_span=[0,10],y_0=y0,|\\phantom{\\verb!x!}\\verb|num_points=100)|\n",
       "\\end{array}\n",
       "\\end{math}"
      ],
      "text/plain": [
       "\"T = ode_solver()\\nT.algorithm='rk8pd'\\nT.function = fun\\ny0=[1,0]\\nT.ode_solve(t_span=[0,10],y_0=y0, num_points=100)\""
      ]
     },
     "execution_count": 27,
     "metadata": {},
     "output_type": "execute_result"
    }
   ],
   "source": [
    "'''T = ode_solver()\n",
    "T.algorithm='rk8pd'\n",
    "T.function = fun\n",
    "y0=[1,0]\n",
    "T.ode_solve(t_span=[0,10],y_0=y0, num_points=100)'''\n",
    "\n",
    "#Verificar como resolver esse problema depois"
   ]
  },
  {
   "cell_type": "code",
   "execution_count": 26,
   "metadata": {},
   "outputs": [
    {
     "data": {
      "image/png": "[encoded data removed]",
      "text/plain": [
       "Graphics object consisting of 1 graphics primitive"
      ]
     },
     "execution_count": 26,
     "metadata": {},
     "output_type": "execute_result"
    }
   ],
   "source": [
    "var('t')\n",
    "mu = 0.2\n",
    "D = 0.1\n",
    "x0 = 20\n",
    "x(t) = x0*exp((mu-D)*t)\n",
    "plot(x(t),(t,0,50))"
   ]
  },
  {
   "cell_type": "code",
   "execution_count": null,
   "metadata": {},
   "outputs": [],
   "source": []
  }
 ],
 "metadata": {
  "kernelspec": {
   "display_name": "SageMath 9.2",
   "language": "sage",
   "name": "sagemath"
  },
  "language_info": {
   "codemirror_mode": {
    "name": "ipython",
    "version": 3
   },
   "file_extension": ".py",
   "mimetype": "text/x-python",
   "name": "python",
   "nbconvert_exporter": "python",
   "pygments_lexer": "ipython3",
   "version": "3.7.7"
  }
 },
 "nbformat": 4,
 "nbformat_minor": 4
}
