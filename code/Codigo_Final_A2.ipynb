{
 "cells": [
  {
   "cell_type": "code",
   "execution_count": 2,
   "metadata": {},
   "outputs": [
    {
     "name": "stdout",
     "output_type": "stream",
     "text": [
      "Requirement already satisfied: pandas in /home/erick/Documents/FGV/sage-9.2-Ubuntu_20.04-x86_64/SageMath/local/lib/python3.8/site-packages (1.3.4)\n",
      "Requirement already satisfied: numpy>=1.17.3; platform_machine != \"aarch64\" and platform_machine != \"arm64\" and python_version < \"3.10\" in /home/erick/Documents/FGV/sage-9.2-Ubuntu_20.04-x86_64/SageMath/local/lib/python3.8/site-packages (from pandas) (1.19.1)\n",
      "Requirement already satisfied: python-dateutil>=2.7.3 in /home/erick/Documents/FGV/sage-9.2-Ubuntu_20.04-x86_64/SageMath/local/lib/python3.8/site-packages (from pandas) (2.8.1)\n",
      "Requirement already satisfied: pytz>=2017.3 in /home/erick/Documents/FGV/sage-9.2-Ubuntu_20.04-x86_64/SageMath/local/lib/python3.8/site-packages (from pandas) (2020.1)\n",
      "Requirement already satisfied: six>=1.5 in /home/erick/Documents/FGV/sage-9.2-Ubuntu_20.04-x86_64/SageMath/local/lib/python3.8/site-packages (from python-dateutil>=2.7.3->pandas) (1.15.0)\n",
      "\u001b[33mWARNING: You are using pip version 20.2.3; however, version 21.3.1 is available.\n",
      "You should consider upgrading via the '/home/erick/Documents/FGV/sage-9.2-Ubuntu_20.04-x86_64/SageMath/local/bin/python3 -m pip install --upgrade pip' command.\u001b[0m\n"
     ]
    }
   ],
   "source": [
    "!pip install pandas"
   ]
  },
  {
   "cell_type": "code",
   "execution_count": 2,
   "metadata": {},
   "outputs": [],
   "source": [
    "import numpy as np\n",
    "import pandas as pd\n",
    "%display typeset"
   ]
  },
  {
   "cell_type": "markdown",
   "metadata": {},
   "source": [
    "Calculando dX/dt:"
   ]
  },
  {
   "cell_type": "code",
   "execution_count": 3,
   "metadata": {},
   "outputs": [
    {
     "data": {
      "text/html": [
       "<html><script type=\"math/tex; mode=display\">\\newcommand{\\Bold}[1]{\\mathbf{#1}}\\frac{\\partial}{\\partial t}X\\left(t\\right) = -D X\\left(t\\right) + \\mu X\\left(t\\right)</script></html>"
      ],
      "text/latex": [
       "\\begin{math}\n",
       "\\newcommand{\\Bold}[1]{\\mathbf{#1}}\\frac{\\partial}{\\partial t}X\\left(t\\right) = -D X\\left(t\\right) + \\mu X\\left(t\\right)\n",
       "\\end{math}"
      ],
      "text/plain": [
       "diff(X(t), t) == -D*X(t) + mu*X(t)"
      ]
     },
     "execution_count": 3,
     "metadata": {},
     "output_type": "execute_result"
    }
   ],
   "source": [
    "var('X mu D t')\n",
    "X = function('X')(t)\n",
    "dxdt = diff(X,t) == mu*X-D*X\n",
    "dxdt"
   ]
  },
  {
   "cell_type": "markdown",
   "metadata": {},
   "source": [
    "Calculando dS/dt:"
   ]
  },
  {
   "cell_type": "code",
   "execution_count": 4,
   "metadata": {},
   "outputs": [
    {
     "data": {
      "text/html": [
       "<html><script type=\"math/tex; mode=display\">\\newcommand{\\Bold}[1]{\\mathbf{#1}}\\frac{\\partial}{\\partial t}S\\left(t\\right) = D \\mathit{Sf} - D S\\left(t\\right) - \\frac{X \\mu}{Y}</script></html>"
      ],
      "text/latex": [
       "\\begin{math}\n",
       "\\newcommand{\\Bold}[1]{\\mathbf{#1}}\\frac{\\partial}{\\partial t}S\\left(t\\right) = D \\mathit{Sf} - D S\\left(t\\right) - \\frac{X \\mu}{Y}\n",
       "\\end{math}"
      ],
      "text/plain": [
       "diff(S(t), t) == D*Sf - D*S(t) - X*mu/Y"
      ]
     },
     "execution_count": 4,
     "metadata": {},
     "output_type": "execute_result"
    }
   ],
   "source": [
    "var('S mu D Sf X Y t')\n",
    "S = function('S')(t)\n",
    "dsdt = diff(S,t) == D*Sf - D*S -(mu*X/Y)\n",
    "dsdt"
   ]
  },
  {
   "cell_type": "markdown",
   "metadata": {},
   "source": [
    "Desenvolvendo a matriz jacobiana:"
   ]
  },
  {
   "cell_type": "code",
   "execution_count": 5,
   "metadata": {},
   "outputs": [
    {
     "data": {
      "text/html": [
       "<html><script type=\"math/tex; mode=display\">\\newcommand{\\Bold}[1]{\\mathbf{#1}}\\left(\\begin{array}{rr}\n",
       "-D + \\mu & 0 \\\\\n",
       "-\\frac{\\mu}{Y} & -D\n",
       "\\end{array}\\right)</script></html>"
      ],
      "text/latex": [
       "\\begin{math}\n",
       "\\newcommand{\\Bold}[1]{\\mathbf{#1}}\\left(\\begin{array}{rr}\n",
       "-D + \\mu & 0 \\\\\n",
       "-\\frac{\\mu}{Y} & -D\n",
       "\\end{array}\\right)\n",
       "\\end{math}"
      ],
      "text/plain": [
       "[-D + mu       0]\n",
       "[  -mu/Y      -D]"
      ]
     },
     "execution_count": 5,
     "metadata": {},
     "output_type": "execute_result"
    }
   ],
   "source": [
    "var('S X mu D Y Sf x s')\n",
    "J = jacobian([mu*x-D*x, D*Sf - D*s -(mu*x/Y)],[x,s])\n",
    "J"
   ]
  },
  {
   "cell_type": "markdown",
   "metadata": {},
   "source": [
    "Calculando o traço (p):"
   ]
  },
  {
   "cell_type": "code",
   "execution_count": 6,
   "metadata": {},
   "outputs": [
    {
     "data": {
      "text/html": [
       "<html><script type=\"math/tex; mode=display\">\\newcommand{\\Bold}[1]{\\mathbf{#1}}-2 \\, D + \\mu</script></html>"
      ],
      "text/latex": [
       "\\begin{math}\n",
       "\\newcommand{\\Bold}[1]{\\mathbf{#1}}-2 \\, D + \\mu\n",
       "\\end{math}"
      ],
      "text/plain": [
       "-2*D + mu"
      ]
     },
     "execution_count": 6,
     "metadata": {},
     "output_type": "execute_result"
    }
   ],
   "source": [
    "J.trace()"
   ]
  },
  {
   "cell_type": "markdown",
   "metadata": {},
   "source": [
    "Calculando o determinante (q):"
   ]
  },
  {
   "cell_type": "code",
   "execution_count": 7,
   "metadata": {},
   "outputs": [
    {
     "data": {
      "text/html": [
       "<html><script type=\"math/tex; mode=display\">\\newcommand{\\Bold}[1]{\\mathbf{#1}}{\\left(D - \\mu\\right)} D</script></html>"
      ],
      "text/latex": [
       "\\begin{math}\n",
       "\\newcommand{\\Bold}[1]{\\mathbf{#1}}{\\left(D - \\mu\\right)} D\n",
       "\\end{math}"
      ],
      "text/plain": [
       "(D - mu)*D"
      ]
     },
     "execution_count": 7,
     "metadata": {},
     "output_type": "execute_result"
    }
   ],
   "source": [
    "J.det()"
   ]
  },
  {
   "cell_type": "markdown",
   "metadata": {},
   "source": [
    "p = -2D+mu\n",
    "\n",
    "q = D^2 - muD"
   ]
  },
  {
   "cell_type": "markdown",
   "metadata": {},
   "source": [
    "Δ=p^2-4*q"
   ]
  },
  {
   "cell_type": "markdown",
   "metadata": {},
   "source": [
    "p^2 = (mu-2D)^2 = mu^2 -4muD +4D^2\n",
    "\n",
    "4q = 4(D^2 - muD) = 4D^2 - 4muD\n",
    "\n",
    "Δ = mu^2 -4muD +4D^2 - (4D^2 - 4muD) = mu^2"
   ]
  },
  {
   "cell_type": "markdown",
   "metadata": {},
   "source": [
    "Autovetores:"
   ]
  },
  {
   "cell_type": "code",
   "execution_count": 8,
   "metadata": {},
   "outputs": [
    {
     "data": {
      "text/html": [
       "<html><script type=\"math/tex; mode=display\">\\newcommand{\\Bold}[1]{\\mathbf{#1}}\\left[\\left(-D + \\mu, \\left[\\left(1,\\,-\\frac{1}{Y}\\right)\\right], 1\\right), \\left(-D, \\left[\\left(0,\\,1\\right)\\right], 1\\right)\\right]</script></html>"
      ],
      "text/latex": [
       "\\begin{math}\n",
       "\\newcommand{\\Bold}[1]{\\mathbf{#1}}\\left[\\left(-D + \\mu, \\left[\\left(1,\\,-\\frac{1}{Y}\\right)\\right], 1\\right), \\left(-D, \\left[\\left(0,\\,1\\right)\\right], 1\\right)\\right]\n",
       "\\end{math}"
      ],
      "text/plain": [
       "[(-D + mu, [(1, -1/Y)], 1), (-D, [(0, 1)], 1)]"
      ]
     },
     "execution_count": 8,
     "metadata": {},
     "output_type": "execute_result"
    }
   ],
   "source": [
    "J.eigenvectors_right()"
   ]
  },
  {
   "cell_type": "markdown",
   "metadata": {},
   "source": [
    "Autovalores:"
   ]
  },
  {
   "cell_type": "code",
   "execution_count": 9,
   "metadata": {},
   "outputs": [
    {
     "data": {
      "text/html": [
       "<html><script type=\"math/tex; mode=display\">\\newcommand{\\Bold}[1]{\\mathbf{#1}}\\left[-D + \\mu, -D\\right]</script></html>"
      ],
      "text/latex": [
       "\\begin{math}\n",
       "\\newcommand{\\Bold}[1]{\\mathbf{#1}}\\left[-D + \\mu, -D\\right]\n",
       "\\end{math}"
      ],
      "text/plain": [
       "[-D + mu, -D]"
      ]
     },
     "execution_count": 9,
     "metadata": {},
     "output_type": "execute_result"
    }
   ],
   "source": [
    "J.eigenvalues()"
   ]
  },
  {
   "cell_type": "markdown",
   "metadata": {},
   "source": [
    "$\\lambda_1$: -D\n",
    "\n",
    "$\\lambda_2$: -D+mu"
   ]
  },
  {
   "cell_type": "markdown",
   "metadata": {},
   "source": [
    "Os autovalores são reais e distintos, já que mu > 0 (mu é taxa de crescimento específica; 1/Tempo): "
   ]
  },
  {
   "cell_type": "markdown",
   "metadata": {},
   "source": [
    "Se mu>D, os sinais dos autovalores são opostos ( λ1 <0< λ2 ): Equilíbrio instável em ponto de sela\n",
    "\n",
    "Se mu<D, os sinais dos autovalores são iguais, nesse caso negativos, já que D é taxa de diluição e portanto não pode ser negativo ( λ1 < λ2 <0): Equilíbrio pontual estável\n",
    "\n",
    "Se mu=D, um dos autovalores será 0. Nesse caso o modelo ficará constante, como pode ser visto mais adiante no notebook.\n",
    "\n",
    "Note que mu-D será sempre maior que -D, logo mu-D será o autovalor dominante  (λd)"
   ]
  },
  {
   "cell_type": "markdown",
   "metadata": {},
   "source": [
    "Polinômio característico:"
   ]
  },
  {
   "cell_type": "code",
   "execution_count": 10,
   "metadata": {},
   "outputs": [
    {
     "data": {
      "text/html": [
       "<html><script type=\"math/tex; mode=display\">\\newcommand{\\Bold}[1]{\\mathbf{#1}}x^{2} + \\left(2 \\, D - \\mu\\right) x + D^{2} - D \\mu</script></html>"
      ],
      "text/latex": [
       "\\begin{math}\n",
       "\\newcommand{\\Bold}[1]{\\mathbf{#1}}x^{2} + \\left(2 \\, D - \\mu\\right) x + D^{2} - D \\mu\n",
       "\\end{math}"
      ],
      "text/plain": [
       "x^2 + (2*D - mu)*x + D^2 - D*mu"
      ]
     },
     "execution_count": 10,
     "metadata": {},
     "output_type": "execute_result"
    }
   ],
   "source": [
    "J.characteristic_polynomial()"
   ]
  },
  {
   "cell_type": "code",
   "execution_count": 11,
   "metadata": {},
   "outputs": [
    {
     "data": {
      "text/html": [
       "<html><script type=\"math/tex; mode=display\">\\newcommand{\\Bold}[1]{\\mathbf{#1}}\\left[\\left(-D + \\mu, 1\\right), \\left(-D, 1\\right)\\right]</script></html>"
      ],
      "text/latex": [
       "\\begin{math}\n",
       "\\newcommand{\\Bold}[1]{\\mathbf{#1}}\\left[\\left(-D + \\mu, 1\\right), \\left(-D, 1\\right)\\right]\n",
       "\\end{math}"
      ],
      "text/plain": [
       "[(-D + mu, 1), (-D, 1)]"
      ]
     },
     "execution_count": 11,
     "metadata": {},
     "output_type": "execute_result"
    }
   ],
   "source": [
    "J.characteristic_polynomial().roots()"
   ]
  },
  {
   "cell_type": "code",
   "execution_count": 12,
   "metadata": {},
   "outputs": [
    {
     "data": {
      "text/html": [
       "<html><script type=\"math/tex; mode=display\">\\newcommand{\\Bold}[1]{\\mathbf{#1}}\\left(\\begin{array}{r|r}\n",
       "-D + \\mu & 0 \\\\\n",
       "\\hline\n",
       " 0 & -D\n",
       "\\end{array}\\right)</script></html>"
      ],
      "text/latex": [
       "\\begin{math}\n",
       "\\newcommand{\\Bold}[1]{\\mathbf{#1}}\\left(\\begin{array}{r|r}\n",
       "-D + \\mu & 0 \\\\\n",
       "\\hline\n",
       " 0 & -D\n",
       "\\end{array}\\right)\n",
       "\\end{math}"
      ],
      "text/plain": [
       "[-D + mu|      0]\n",
       "[-------+-------]\n",
       "[      0|     -D]"
      ]
     },
     "execution_count": 12,
     "metadata": {},
     "output_type": "execute_result"
    }
   ],
   "source": [
    "J.jordan_form()"
   ]
  },
  {
   "cell_type": "markdown",
   "metadata": {},
   "source": [
    "Calculando os equilíbrios do sistema:"
   ]
  },
  {
   "cell_type": "code",
   "execution_count": 13,
   "metadata": {},
   "outputs": [
    {
     "data": {
      "text/html": [
       "<html><script type=\"math/tex; mode=display\">\\newcommand{\\Bold}[1]{\\mathbf{#1}}\\left[\\left[X = 0, S = -K_{s}\\right], \\left[X = 0, S = S_{f}\\right], \\left[X = -\\frac{S_{f} Y \\mu_{\\mathit{max}} - {\\left(D K_{s} + D S_{f}\\right)} Y}{D - \\mu_{\\mathit{max}}}, S = -\\frac{D K_{s}}{D - \\mu_{\\mathit{max}}}\\right]\\right]</script></html>"
      ],
      "text/latex": [
       "\\begin{math}\n",
       "\\newcommand{\\Bold}[1]{\\mathbf{#1}}\\left[\\left[X = 0, S = -K_{s}\\right], \\left[X = 0, S = S_{f}\\right], \\left[X = -\\frac{S_{f} Y \\mu_{\\mathit{max}} - {\\left(D K_{s} + D S_{f}\\right)} Y}{D - \\mu_{\\mathit{max}}}, S = -\\frac{D K_{s}}{D - \\mu_{\\mathit{max}}}\\right]\\right]\n",
       "\\end{math}"
      ],
      "text/plain": [
       "[[X == 0, S == -K_s], [X == 0, S == S_f], [X == -(S_f*Y*mu_max - (D*K_s + D*S_f)*Y)/(D - mu_max), S == -D*K_s/(D - mu_max)]]"
      ]
     },
     "execution_count": 13,
     "metadata": {},
     "output_type": "execute_result"
    }
   ],
   "source": [
    "var(\"X Y S mu_max K_s D S_f\")\n",
    "\n",
    "sol = solve([(mu_max*S/(K_s+S))*X-D*X, D*S_f-D*S-((mu_max*S/(K_s+S))*X/Y)], [X,S], ics=[0.05,10,0], ivar=t)\n",
    "sol"
   ]
  },
  {
   "cell_type": "code",
   "execution_count": 34,
   "metadata": {},
   "outputs": [
    {
     "data": {
      "image/png": "[encoded data removed]",
      "text/plain": [
       "Graphics object consisting of 2 graphics primitives"
      ]
     },
     "execution_count": 34,
     "metadata": {},
     "output_type": "execute_result"
    }
   ],
   "source": [
    "solX, solS = sol[2][0].rhs(), sol[2][1].rhs()\n",
    "plot((solX(mu_max = 1.6,K_s = 1.0,Y = 0.8,S_f = 20.0,D = 1.0),solS(mu_max = 1.6,K_s = 1.0,Y = 0.8,S_f = 20.0,D = 1.0)),(t,0,30), legend_label =[\"X\",\"S\"])"
   ]
  },
  {
   "cell_type": "markdown",
   "metadata": {},
   "source": [
    "Desenvolvendo a matriz jacobiana:"
   ]
  },
  {
   "cell_type": "code",
   "execution_count": 35,
   "metadata": {},
   "outputs": [
    {
     "data": {
      "image/png": "[encoded data removed]",
      "text/plain": [
       "Graphics object consisting of 2 graphics primitives"
      ]
     },
     "execution_count": 35,
     "metadata": {},
     "output_type": "execute_result"
    }
   ],
   "source": [
    "plot((solX(mu_max = 1.6,K_s = 1.0,Y = 0.3,S_f = 20.0,D = 1.0),solS(mu_max = 1.6,K_s = 1.0,Y = 0.3,S_f = 20.0,D = 1.0)),(t,0,30), legend_label =[\"X\",\"S\"])"
   ]
  },
  {
   "cell_type": "code",
   "execution_count": 36,
   "metadata": {},
   "outputs": [
    {
     "data": {
      "image/png": "[encoded data removed]",
      "text/plain": [
       "Graphics object consisting of 2 graphics primitives"
      ]
     },
     "execution_count": 36,
     "metadata": {},
     "output_type": "execute_result"
    }
   ],
   "source": [
    "plot((solX(mu_max = 3.2,K_s = 1.0,Y = 0.8,S_f = 20.0,D = 1.0),solS(mu_max = 3.2,K_s = 1.0,Y = 0.8,S_f = 20.0,D = 1.0)),(t,0,30), legend_label =[\"X\",\"S\"])"
   ]
  },
  {
   "cell_type": "code",
   "execution_count": 37,
   "metadata": {},
   "outputs": [
    {
     "data": {
      "image/png": "[encoded data removed]",
      "text/plain": [
       "Graphics object consisting of 2 graphics primitives"
      ]
     },
     "execution_count": 37,
     "metadata": {},
     "output_type": "execute_result"
    }
   ],
   "source": [
    "plot((solX(mu_max = 3.2,K_s = 1.0,Y = 0.3,S_f = 20.0,D = 1.0),solS(mu_max = 3.2,K_s = 1.0,Y = 0.3,S_f = 20.0,D = 1.0)),(t,0,30), legend_label =[\"X\",\"S\"])"
   ]
  },
  {
   "cell_type": "code",
   "execution_count": 38,
   "metadata": {},
   "outputs": [
    {
     "data": {
      "image/png": "[encoded data removed]",
      "text/plain": [
       "Graphics object consisting of 2 graphics primitives"
      ]
     },
     "execution_count": 38,
     "metadata": {},
     "output_type": "execute_result"
    }
   ],
   "source": [
    "plot((solX(mu_max = 1.2,K_s = 1.0,Y = 0.8,S_f = 20.0,D = 1.0),solS(mu_max = 1.2,K_s = 1.0,Y = 0.8,S_f = 20.0,D = 1.0)),(t,0,30), legend_label =[\"X\",\"S\"])"
   ]
  },
  {
   "cell_type": "code",
   "execution_count": 39,
   "metadata": {},
   "outputs": [
    {
     "data": {
      "image/png": "[encoded data removed]",
      "text/plain": [
       "Graphics object consisting of 2 graphics primitives"
      ]
     },
     "execution_count": 39,
     "metadata": {},
     "output_type": "execute_result"
    }
   ],
   "source": [
    "plot((solX(mu_max = 1.2,K_s = 1.0,Y = 0.3,S_f = 20.0,D = 1.0),solS(mu_max = 1.2,K_s = 1.0,Y = 0.3,S_f = 20.0,D = 1.0)),(t,0,30), legend_label =[\"X\",\"S\"])"
   ]
  },
  {
   "cell_type": "code",
   "execution_count": 40,
   "metadata": {},
   "outputs": [
    {
     "data": {
      "image/png": "[encoded data removed]",
      "text/plain": [
       "Graphics object consisting of 2 graphics primitives"
      ]
     },
     "execution_count": 40,
     "metadata": {},
     "output_type": "execute_result"
    }
   ],
   "source": [
    "plot((solX(mu_max = 1.6,K_s = 2.0,Y = 0.8,S_f = 20.0,D = 1.0),solS(mu_max = 1.6,K_s = 2.0,Y = 0.8,S_f = 20.0,D = 1.0)),(t,0,30), legend_label =[\"X\",\"S\"])"
   ]
  },
  {
   "cell_type": "code",
   "execution_count": 41,
   "metadata": {},
   "outputs": [
    {
     "data": {
      "image/png": "[encoded data removed]",
      "text/plain": [
       "Graphics object consisting of 2 graphics primitives"
      ]
     },
     "execution_count": 41,
     "metadata": {},
     "output_type": "execute_result"
    }
   ],
   "source": [
    "plot((solX(mu_max = 1.6,K_s = 0.5,Y = 0.8,S_f = 20.0,D = 1.0),solS(mu_max = 1.6,K_s = 0.5,Y = 0.8,S_f = 20.0,D = 1.0)),(t,0,30), legend_label =[\"X\",\"S\"])"
   ]
  },
  {
   "cell_type": "code",
   "execution_count": 42,
   "metadata": {},
   "outputs": [
    {
     "data": {
      "image/png": "[encoded data removed]",
      "text/plain": [
       "Graphics object consisting of 2 graphics primitives"
      ]
     },
     "execution_count": 42,
     "metadata": {},
     "output_type": "execute_result"
    }
   ],
   "source": [
    "plot((solX(mu_max = 1.6,K_s = 1.0,Y = 0.8,S_f = 40.0,D = 1.0),solS(mu_max = 1.6,K_s = 1.0,Y = 0.8,S_f = 40.0,D = 1.0)),(t,0,30), legend_label =[\"X\",\"S\"])"
   ]
  },
  {
   "cell_type": "code",
   "execution_count": 43,
   "metadata": {},
   "outputs": [
    {
     "data": {
      "image/png": "[encoded data removed]",
      "text/plain": [
       "Graphics object consisting of 2 graphics primitives"
      ]
     },
     "execution_count": 43,
     "metadata": {},
     "output_type": "execute_result"
    }
   ],
   "source": [
    "plot((solX(mu_max = 1.6,K_s = 1.0,Y = 0.8,S_f = 10.0,D = 1.0),solS(mu_max = 1.6,K_s = 1.0,Y = 0.8,S_f = 10.0,D = 1.0)),(t,0,30), legend_label =[\"X\",\"S\"])"
   ]
  },
  {
   "cell_type": "code",
   "execution_count": 44,
   "metadata": {},
   "outputs": [
    {
     "data": {
      "image/png": "[encoded data removed]",
      "text/plain": [
       "Graphics object consisting of 2 graphics primitives"
      ]
     },
     "execution_count": 44,
     "metadata": {},
     "output_type": "execute_result"
    }
   ],
   "source": [
    "plot((solX(mu_max = 1.6,K_s = 1.0,Y = 0.8,S_f = 20.0,D = 2.0),solS(mu_max = 1.6,K_s = 1.0,Y = 0.8,S_f = 20.0,D = 2.0)),(t,0,30), legend_label =[\"X\",\"S\"])"
   ]
  },
  {
   "cell_type": "code",
   "execution_count": 45,
   "metadata": {},
   "outputs": [
    {
     "data": {
      "image/png": "[encoded data removed]",
      "text/plain": [
       "Graphics object consisting of 2 graphics primitives"
      ]
     },
     "execution_count": 45,
     "metadata": {},
     "output_type": "execute_result"
    }
   ],
   "source": [
    "plot((solX(mu_max = 1.6,K_s = 1.0,Y = 0.8,S_f = 20.0,D = 0.5),solS(mu_max = 1.6,K_s = 1.0,Y = 0.8,S_f = 20.0,D = 0.5)),(t,0,30), legend_label =[\"X\",\"S\"])"
   ]
  },
  {
   "cell_type": "code",
   "execution_count": 46,
   "metadata": {},
   "outputs": [
    {
     "data": {
      "image/png": "[encoded data removed]",
      "text/plain": [
       "Graphics object consisting of 2 graphics primitives"
      ]
     },
     "execution_count": 46,
     "metadata": {},
     "output_type": "execute_result"
    }
   ],
   "source": [
    "plot((solX(mu_max = 1.6,K_s = 1.0,Y = 0.8,S_f = 20.0,D = 1.5),solS(mu_max = 1.6,K_s = 1.0,Y = 0.8,S_f = 20.0,D = 1.5)),(t,0,30), legend_label =[\"X\",\"S\"])"
   ]
  },
  {
   "cell_type": "code",
   "execution_count": 18,
   "metadata": {},
   "outputs": [
    {
     "data": {
      "text/html": [
       "<html><script type=\"math/tex; mode=display\">\\newcommand{\\Bold}[1]{\\mathbf{#1}}\\left(\\begin{array}{rr}\n",
       "-D + \\frac{S \\mu_{\\mathit{max}}}{K_{s} + S} & \\frac{X \\mu_{\\mathit{max}}}{K_{s} + S} - \\frac{S X \\mu_{\\mathit{max}}}{{\\left(K_{s} + S\\right)}^{2}} \\\\\n",
       "-\\frac{S \\mu_{\\mathit{max}}}{{\\left(K_{s} + S\\right)} Y} & -D - \\frac{X \\mu_{\\mathit{max}}}{{\\left(K_{s} + S\\right)} Y} + \\frac{S X \\mu_{\\mathit{max}}}{{\\left(K_{s} + S\\right)}^{2} Y}\n",
       "\\end{array}\\right)</script></html>"
      ],
      "text/latex": [
       "\\begin{math}\n",
       "\\newcommand{\\Bold}[1]{\\mathbf{#1}}\\left(\\begin{array}{rr}\n",
       "-D + \\frac{S \\mu_{\\mathit{max}}}{K_{s} + S} & \\frac{X \\mu_{\\mathit{max}}}{K_{s} + S} - \\frac{S X \\mu_{\\mathit{max}}}{{\\left(K_{s} + S\\right)}^{2}} \\\\\n",
       "-\\frac{S \\mu_{\\mathit{max}}}{{\\left(K_{s} + S\\right)} Y} & -D - \\frac{X \\mu_{\\mathit{max}}}{{\\left(K_{s} + S\\right)} Y} + \\frac{S X \\mu_{\\mathit{max}}}{{\\left(K_{s} + S\\right)}^{2} Y}\n",
       "\\end{array}\\right)\n",
       "\\end{math}"
      ],
      "text/plain": [
       "[                                 -D + S*mu_max/(K_s + S)              X*mu_max/(K_s + S) - S*X*mu_max/(K_s + S)^2]\n",
       "[                                 -S*mu_max/((K_s + S)*Y) -D - X*mu_max/((K_s + S)*Y) + S*X*mu_max/((K_s + S)^2*Y)]"
      ]
     },
     "execution_count": 18,
     "metadata": {},
     "output_type": "execute_result"
    }
   ],
   "source": [
    "var('S X mu_max D Y S_f K_s')\n",
    "Jack = jacobian([(mu_max*S/(K_s+S))*X-D*X, D*S_f-D*S-((mu_max*S/(K_s+S))*X/Y)], [X,S])\n",
    "Jack"
   ]
  },
  {
   "cell_type": "code",
   "execution_count": 19,
   "metadata": {},
   "outputs": [
    {
     "data": {
      "text/html": [
       "<html><script type=\"math/tex; mode=display\">\\newcommand{\\Bold}[1]{\\mathbf{#1}}-2 \\, D + \\frac{S \\mu_{\\mathit{max}}}{K_{s} + S} - \\frac{X \\mu_{\\mathit{max}}}{{\\left(K_{s} + S\\right)} Y} + \\frac{S X \\mu_{\\mathit{max}}}{{\\left(K_{s} + S\\right)}^{2} Y}</script></html>"
      ],
      "text/latex": [
       "\\begin{math}\n",
       "\\newcommand{\\Bold}[1]{\\mathbf{#1}}-2 \\, D + \\frac{S \\mu_{\\mathit{max}}}{K_{s} + S} - \\frac{X \\mu_{\\mathit{max}}}{{\\left(K_{s} + S\\right)} Y} + \\frac{S X \\mu_{\\mathit{max}}}{{\\left(K_{s} + S\\right)}^{2} Y}\n",
       "\\end{math}"
      ],
      "text/plain": [
       "-2*D + S*mu_max/(K_s + S) - X*mu_max/((K_s + S)*Y) + S*X*mu_max/((K_s + S)^2*Y)"
      ]
     },
     "execution_count": 19,
     "metadata": {},
     "output_type": "execute_result"
    }
   ],
   "source": [
    "Jack.trace()"
   ]
  },
  {
   "cell_type": "code",
   "execution_count": 20,
   "metadata": {},
   "outputs": [
    {
     "data": {
      "text/html": [
       "<html><script type=\"math/tex; mode=display\">\\newcommand{\\Bold}[1]{\\mathbf{#1}}{\\left(D - \\frac{S \\mu_{\\mathit{max}}}{K_{s} + S}\\right)} {\\left(D + \\frac{X \\mu_{\\mathit{max}}}{{\\left(K_{s} + S\\right)} Y} - \\frac{S X \\mu_{\\mathit{max}}}{{\\left(K_{s} + S\\right)}^{2} Y}\\right)} + \\frac{S {\\left(\\frac{X \\mu_{\\mathit{max}}}{K_{s} + S} - \\frac{S X \\mu_{\\mathit{max}}}{{\\left(K_{s} + S\\right)}^{2}}\\right)} \\mu_{\\mathit{max}}}{{\\left(K_{s} + S\\right)} Y}</script></html>"
      ],
      "text/latex": [
       "\\begin{math}\n",
       "\\newcommand{\\Bold}[1]{\\mathbf{#1}}{\\left(D - \\frac{S \\mu_{\\mathit{max}}}{K_{s} + S}\\right)} {\\left(D + \\frac{X \\mu_{\\mathit{max}}}{{\\left(K_{s} + S\\right)} Y} - \\frac{S X \\mu_{\\mathit{max}}}{{\\left(K_{s} + S\\right)}^{2} Y}\\right)} + \\frac{S {\\left(\\frac{X \\mu_{\\mathit{max}}}{K_{s} + S} - \\frac{S X \\mu_{\\mathit{max}}}{{\\left(K_{s} + S\\right)}^{2}}\\right)} \\mu_{\\mathit{max}}}{{\\left(K_{s} + S\\right)} Y}\n",
       "\\end{math}"
      ],
      "text/plain": [
       "(D - S*mu_max/(K_s + S))*(D + X*mu_max/((K_s + S)*Y) - S*X*mu_max/((K_s + S)^2*Y)) + S*(X*mu_max/(K_s + S) - S*X*mu_max/(K_s + S)^2)*mu_max/((K_s + S)*Y)"
      ]
     },
     "execution_count": 20,
     "metadata": {},
     "output_type": "execute_result"
    }
   ],
   "source": [
    "Jack.det()"
   ]
  },
  {
   "cell_type": "code",
   "execution_count": 21,
   "metadata": {},
   "outputs": [
    {
     "data": {
      "text/html": [
       "<html><script type=\"math/tex; mode=display\">\\newcommand{\\Bold}[1]{\\mathbf{#1}}\\left[\\left(\\frac{S^{2} Y \\mu_{\\mathit{max}} - {\\left(K_{s}^{2} Y + 2 \\, K_{s} S Y + S^{2} Y\\right)} D + {\\left(S Y \\mu_{\\mathit{max}} - X \\mu_{\\mathit{max}}\\right)} K_{s}}{K_{s}^{2} Y + 2 \\, K_{s} S Y + S^{2} Y}, \\left[\\left(1,\\,-\\frac{1}{Y}\\right)\\right], 1\\right), \\left(-D, \\left[\\left(1,\\,-\\frac{K_{s} S + S^{2}}{K_{s} X}\\right)\\right], 1\\right)\\right]</script></html>"
      ],
      "text/latex": [
       "\\begin{math}\n",
       "\\newcommand{\\Bold}[1]{\\mathbf{#1}}\\left[\\left(\\frac{S^{2} Y \\mu_{\\mathit{max}} - {\\left(K_{s}^{2} Y + 2 \\, K_{s} S Y + S^{2} Y\\right)} D + {\\left(S Y \\mu_{\\mathit{max}} - X \\mu_{\\mathit{max}}\\right)} K_{s}}{K_{s}^{2} Y + 2 \\, K_{s} S Y + S^{2} Y}, \\left[\\left(1,\\,-\\frac{1}{Y}\\right)\\right], 1\\right), \\left(-D, \\left[\\left(1,\\,-\\frac{K_{s} S + S^{2}}{K_{s} X}\\right)\\right], 1\\right)\\right]\n",
       "\\end{math}"
      ],
      "text/plain": [
       "[((S^2*Y*mu_max - (K_s^2*Y + 2*K_s*S*Y + S^2*Y)*D + (S*Y*mu_max - X*mu_max)*K_s)/(K_s^2*Y + 2*K_s*S*Y + S^2*Y),\n",
       "  [(1, -1/Y)],\n",
       "  1),\n",
       " (-D, [(1, -(K_s*S + S^2)/(K_s*X))], 1)]"
      ]
     },
     "execution_count": 21,
     "metadata": {},
     "output_type": "execute_result"
    }
   ],
   "source": [
    "Jack.eigenvectors_right()"
   ]
  },
  {
   "cell_type": "code",
   "execution_count": 22,
   "metadata": {},
   "outputs": [
    {
     "data": {
      "text/html": [
       "<html><script type=\"math/tex; mode=display\">\\newcommand{\\Bold}[1]{\\mathbf{#1}}\\left[\\frac{S^{2} Y \\mu_{\\mathit{max}} - {\\left(K_{s}^{2} Y + 2 \\, K_{s} S Y + S^{2} Y\\right)} D + {\\left(S Y \\mu_{\\mathit{max}} - X \\mu_{\\mathit{max}}\\right)} K_{s}}{K_{s}^{2} Y + 2 \\, K_{s} S Y + S^{2} Y}, -D\\right]</script></html>"
      ],
      "text/latex": [
       "\\begin{math}\n",
       "\\newcommand{\\Bold}[1]{\\mathbf{#1}}\\left[\\frac{S^{2} Y \\mu_{\\mathit{max}} - {\\left(K_{s}^{2} Y + 2 \\, K_{s} S Y + S^{2} Y\\right)} D + {\\left(S Y \\mu_{\\mathit{max}} - X \\mu_{\\mathit{max}}\\right)} K_{s}}{K_{s}^{2} Y + 2 \\, K_{s} S Y + S^{2} Y}, -D\\right]\n",
       "\\end{math}"
      ],
      "text/plain": [
       "[(S^2*Y*mu_max - (K_s^2*Y + 2*K_s*S*Y + S^2*Y)*D + (S*Y*mu_max - X*mu_max)*K_s)/(K_s^2*Y + 2*K_s*S*Y + S^2*Y),\n",
       " -D]"
      ]
     },
     "execution_count": 22,
     "metadata": {},
     "output_type": "execute_result"
    }
   ],
   "source": [
    "Jack.eigenvalues()"
   ]
  },
  {
   "cell_type": "code",
   "execution_count": 23,
   "metadata": {},
   "outputs": [
    {
     "data": {
      "text/html": [
       "<html><script type=\"math/tex; mode=display\">\\newcommand{\\Bold}[1]{\\mathbf{#1}}x^{2} + \\left(2 \\, D - \\frac{S \\mu_{\\mathit{max}}}{K_{s} + S} - \\frac{S X \\mu_{\\mathit{max}}}{{\\left(K_{s}^{2} + 2 \\, K_{s} S + S^{2}\\right)} Y} + \\frac{X \\mu_{\\mathit{max}}}{{\\left(K_{s} + S\\right)} Y}\\right) x + D^{2} - \\frac{D S \\mu_{\\mathit{max}}}{K_{s} + S} - \\frac{D S X \\mu_{\\mathit{max}}}{{\\left(K_{s}^{2} + 2 \\, K_{s} S + S^{2}\\right)} Y} + \\frac{D X \\mu_{\\mathit{max}}}{{\\left(K_{s} + S\\right)} Y}</script></html>"
      ],
      "text/latex": [
       "\\begin{math}\n",
       "\\newcommand{\\Bold}[1]{\\mathbf{#1}}x^{2} + \\left(2 \\, D - \\frac{S \\mu_{\\mathit{max}}}{K_{s} + S} - \\frac{S X \\mu_{\\mathit{max}}}{{\\left(K_{s}^{2} + 2 \\, K_{s} S + S^{2}\\right)} Y} + \\frac{X \\mu_{\\mathit{max}}}{{\\left(K_{s} + S\\right)} Y}\\right) x + D^{2} - \\frac{D S \\mu_{\\mathit{max}}}{K_{s} + S} - \\frac{D S X \\mu_{\\mathit{max}}}{{\\left(K_{s}^{2} + 2 \\, K_{s} S + S^{2}\\right)} Y} + \\frac{D X \\mu_{\\mathit{max}}}{{\\left(K_{s} + S\\right)} Y}\n",
       "\\end{math}"
      ],
      "text/plain": [
       "x^2 + (2*D - S*mu_max/(K_s + S) - S*X*mu_max/((K_s^2 + 2*K_s*S + S^2)*Y) + X*mu_max/((K_s + S)*Y))*x + D^2 - D*S*mu_max/(K_s + S) - D*S*X*mu_max/((K_s^2 + 2*K_s*S + S^2)*Y) + D*X*mu_max/((K_s + S)*Y)"
      ]
     },
     "execution_count": 23,
     "metadata": {},
     "output_type": "execute_result"
    }
   ],
   "source": [
    "Jack.characteristic_polynomial()"
   ]
  },
  {
   "cell_type": "code",
   "execution_count": 24,
   "metadata": {},
   "outputs": [
    {
     "data": {
      "text/html": [
       "<html><script type=\"math/tex; mode=display\">\\newcommand{\\Bold}[1]{\\mathbf{#1}}\\left[\\left(-\\frac{{\\left(D K_{s}^{2} + 2 \\, D K_{s} S + D S^{2}\\right)} Y + {\\left(K_{s} X - {\\left(K_{s} S + S^{2}\\right)} Y\\right)} \\mu_{\\mathit{max}}}{{\\left(K_{s}^{2} + 2 \\, K_{s} S + S^{2}\\right)} Y}, 1\\right), \\left(-D, 1\\right)\\right]</script></html>"
      ],
      "text/latex": [
       "\\begin{math}\n",
       "\\newcommand{\\Bold}[1]{\\mathbf{#1}}\\left[\\left(-\\frac{{\\left(D K_{s}^{2} + 2 \\, D K_{s} S + D S^{2}\\right)} Y + {\\left(K_{s} X - {\\left(K_{s} S + S^{2}\\right)} Y\\right)} \\mu_{\\mathit{max}}}{{\\left(K_{s}^{2} + 2 \\, K_{s} S + S^{2}\\right)} Y}, 1\\right), \\left(-D, 1\\right)\\right]\n",
       "\\end{math}"
      ],
      "text/plain": [
       "[(-((D*K_s^2 + 2*D*K_s*S + D*S^2)*Y + (K_s*X - (K_s*S + S^2)*Y)*mu_max)/((K_s^2 + 2*K_s*S + S^2)*Y),\n",
       "  1),\n",
       " (-D, 1)]"
      ]
     },
     "execution_count": 24,
     "metadata": {},
     "output_type": "execute_result"
    }
   ],
   "source": [
    "Jack.characteristic_polynomial().roots()"
   ]
  },
  {
   "cell_type": "code",
   "execution_count": 25,
   "metadata": {},
   "outputs": [
    {
     "data": {
      "text/html": [
       "<html><script type=\"math/tex; mode=display\">\\newcommand{\\Bold}[1]{\\mathbf{#1}}\\left(\\begin{array}{r|r}\n",
       "\\frac{S^{2} Y \\mu_{\\mathit{max}} - {\\left(K_{s}^{2} Y + 2 \\, K_{s} S Y + S^{2} Y\\right)} D + {\\left(S Y \\mu_{\\mathit{max}} - X \\mu_{\\mathit{max}}\\right)} K_{s}}{K_{s}^{2} Y + 2 \\, K_{s} S Y + S^{2} Y} & 0 \\\\\n",
       "\\hline\n",
       " 0 & -D\n",
       "\\end{array}\\right)</script></html>"
      ],
      "text/latex": [
       "\\begin{math}\n",
       "\\newcommand{\\Bold}[1]{\\mathbf{#1}}\\left(\\begin{array}{r|r}\n",
       "\\frac{S^{2} Y \\mu_{\\mathit{max}} - {\\left(K_{s}^{2} Y + 2 \\, K_{s} S Y + S^{2} Y\\right)} D + {\\left(S Y \\mu_{\\mathit{max}} - X \\mu_{\\mathit{max}}\\right)} K_{s}}{K_{s}^{2} Y + 2 \\, K_{s} S Y + S^{2} Y} & 0 \\\\\n",
       "\\hline\n",
       " 0 & -D\n",
       "\\end{array}\\right)\n",
       "\\end{math}"
      ],
      "text/plain": [
       "[(S^2*Y*mu_max - (K_s^2*Y + 2*K_s*S*Y + S^2*Y)*D + (S*Y*mu_max - X*mu_max)*K_s)/(K_s^2*Y + 2*K_s*S*Y + S^2*Y)|                                                                                                           0]\n",
       "[------------------------------------------------------------------------------------------------------------+------------------------------------------------------------------------------------------------------------]\n",
       "[                                                                                                           0|                                                                                                          -D]"
      ]
     },
     "execution_count": 25,
     "metadata": {},
     "output_type": "execute_result"
    }
   ],
   "source": [
    "Jack.jordan_form()"
   ]
  },
  {
   "cell_type": "markdown",
   "metadata": {},
   "source": [
    "Estabilidade do equilíbrio"
   ]
  },
  {
   "cell_type": "code",
   "execution_count": 26,
   "metadata": {},
   "outputs": [
    {
     "data": {
      "text/html": [
       "<html><script type=\"math/tex; mode=display\">\\newcommand{\\Bold}[1]{\\mathbf{#1}}X_{0} e^{\\left(-\\frac{D K_{s} t}{K_{s} + S} - \\frac{D S t}{K_{s} + S} + \\frac{S \\mu_{\\mathit{max}} t}{K_{s} + S}\\right)}</script></html>"
      ],
      "text/latex": [
       "\\begin{math}\n",
       "\\newcommand{\\Bold}[1]{\\mathbf{#1}}X_{0} e^{\\left(-\\frac{D K_{s} t}{K_{s} + S} - \\frac{D S t}{K_{s} + S} + \\frac{S \\mu_{\\mathit{max}} t}{K_{s} + S}\\right)}\n",
       "\\end{math}"
      ],
      "text/plain": [
       "X0*e^(-D*K_s*t/(K_s + S) - D*S*t/(K_s + S) + S*mu_max*t/(K_s + S))"
      ]
     },
     "metadata": {},
     "output_type": "display_data"
    }
   ],
   "source": [
    "var('t mum_max S K_s D X0')\n",
    "X=function('X')(t)\n",
    "dxdt = diff(X,t)== (mu_max*S/(K_s+S))*X-D*X\n",
    "sol = desolve(dxdt,X,ivar=t, ics=[0,X0])\n",
    "show(sol)"
   ]
  },
  {
   "cell_type": "code",
   "execution_count": 27,
   "metadata": {},
   "outputs": [
    {
     "data": {
      "image/png": "[encoded data removed]",
      "text/plain": [
       "Graphics object consisting of 3 graphics primitives"
      ]
     },
     "execution_count": 27,
     "metadata": {},
     "output_type": "execute_result"
    }
   ],
   "source": [
    "f(t) = sol(mu_max=1.6, S=3, D=1.0, K_s=1.0,X0=4)\n",
    "g(t) = sol(mu_max=1.6, S=3, D=1.0, K_s=1.0,X0=0)\n",
    "h(t) = sol(mu_max=1.6, S=3, D=1.0, K_s=1.0,X0=1)\n",
    "(plot(f, 0,10,axes_labels=['t','X(t)']) + plot(g, 0,10,axes_labels=['t','X(t)'], color='red') +\\\n",
    " plot(h, 0,10,axes_labels=['t','X(t)'], color='green'))"
   ]
  },
  {
   "cell_type": "code",
   "execution_count": 29,
   "metadata": {},
   "outputs": [
    {
     "data": {
      "text/html": [
       "<html><script type=\"math/tex; mode=display\">\\newcommand{\\Bold}[1]{\\mathbf{#1}}\\left[X\\left(t\\right) = 0\\right]</script></html>"
      ],
      "text/latex": [
       "\\begin{math}\n",
       "\\newcommand{\\Bold}[1]{\\mathbf{#1}}\\left[X\\left(t\\right) = 0\\right]\n",
       "\\end{math}"
      ],
      "text/plain": [
       "[X(t) == 0]"
      ]
     },
     "execution_count": 29,
     "metadata": {},
     "output_type": "execute_result"
    }
   ],
   "source": [
    "solve((mu_max*S/(K_s+S))*X-D*X,X)"
   ]
  },
  {
   "cell_type": "code",
   "execution_count": 30,
   "metadata": {},
   "outputs": [
    {
     "ename": "TypeError",
     "evalue": "Computation failed since Maxima requested additional constraints; using the 'assume' command before evaluation *may* help (example of legal syntax is 'assume(X^2*mu_max^2+(2*D*K_s\n>0)', see `assume?` for more details)\nIs X^2*mu_max^2+(2*D*K_s\n                                    -2*D*S_f)\n                                    *X*Y*mu_max\n                                   +(D^2*S_f^2\n                                    +2*D^2*K_s\n                                      *S_f\n                                    +D^2*K_s^2)\n                                    *Y^2 positive or negative?",
     "output_type": "error",
     "traceback": [
      "\u001b[0;31m---------------------------------------------------------------------------\u001b[0m",
      "\u001b[0;31mRuntimeError\u001b[0m                              Traceback (most recent call last)",
      "\u001b[0;32m~/Documents/FGV/sage-9.2-Ubuntu_20.04-x86_64/SageMath/local/lib/python3.8/site-packages/sage/interfaces/maxima_lib.py\u001b[0m in \u001b[0;36m_create\u001b[0;34m(self, value, name)\u001b[0m\n\u001b[1;32m    605\u001b[0m             \u001b[0;32melse\u001b[0m\u001b[0;34m:\u001b[0m\u001b[0;34m\u001b[0m\u001b[0;34m\u001b[0m\u001b[0m\n\u001b[0;32m--> 606\u001b[0;31m                 \u001b[0mself\u001b[0m\u001b[0;34m.\u001b[0m\u001b[0mset\u001b[0m\u001b[0;34m(\u001b[0m\u001b[0mname\u001b[0m\u001b[0;34m,\u001b[0m \u001b[0mvalue\u001b[0m\u001b[0;34m)\u001b[0m\u001b[0;34m\u001b[0m\u001b[0;34m\u001b[0m\u001b[0m\n\u001b[0m\u001b[1;32m    607\u001b[0m         \u001b[0;32mexcept\u001b[0m \u001b[0mRuntimeError\u001b[0m \u001b[0;32mas\u001b[0m \u001b[0merror\u001b[0m\u001b[0;34m:\u001b[0m\u001b[0;34m\u001b[0m\u001b[0;34m\u001b[0m\u001b[0m\n",
      "\u001b[0;32m~/Documents/FGV/sage-9.2-Ubuntu_20.04-x86_64/SageMath/local/lib/python3.8/site-packages/sage/interfaces/maxima_lib.py\u001b[0m in \u001b[0;36mset\u001b[0;34m(self, var, value)\u001b[0m\n\u001b[1;32m    513\u001b[0m         \u001b[0mcmd\u001b[0m \u001b[0;34m=\u001b[0m \u001b[0;34m'%s : %s$'\u001b[0m\u001b[0;34m%\u001b[0m\u001b[0;34m(\u001b[0m\u001b[0mvar\u001b[0m\u001b[0;34m,\u001b[0m \u001b[0mvalue\u001b[0m\u001b[0;34m.\u001b[0m\u001b[0mrstrip\u001b[0m\u001b[0;34m(\u001b[0m\u001b[0;34m';'\u001b[0m\u001b[0;34m)\u001b[0m\u001b[0;34m)\u001b[0m\u001b[0;34m\u001b[0m\u001b[0;34m\u001b[0m\u001b[0m\n\u001b[0;32m--> 514\u001b[0;31m         \u001b[0mself\u001b[0m\u001b[0;34m.\u001b[0m\u001b[0meval\u001b[0m\u001b[0;34m(\u001b[0m\u001b[0mcmd\u001b[0m\u001b[0;34m)\u001b[0m\u001b[0;34m\u001b[0m\u001b[0;34m\u001b[0m\u001b[0m\n\u001b[0m\u001b[1;32m    515\u001b[0m \u001b[0;34m\u001b[0m\u001b[0m\n",
      "\u001b[0;32m~/Documents/FGV/sage-9.2-Ubuntu_20.04-x86_64/SageMath/local/lib/python3.8/site-packages/sage/interfaces/maxima_lib.py\u001b[0m in \u001b[0;36m_eval_line\u001b[0;34m(self, line, locals, reformat, **kwds)\u001b[0m\n\u001b[1;32m    459\u001b[0m                 \u001b[0;32mif\u001b[0m \u001b[0mstatement\u001b[0m\u001b[0;34m:\u001b[0m\u001b[0;34m\u001b[0m\u001b[0;34m\u001b[0m\u001b[0m\n\u001b[0;32m--> 460\u001b[0;31m                     \u001b[0mmaxima_eval\u001b[0m\u001b[0;34m(\u001b[0m\u001b[0;34m\"#$%s$\"\u001b[0m \u001b[0;34m%\u001b[0m \u001b[0mstatement\u001b[0m\u001b[0;34m)\u001b[0m\u001b[0;34m\u001b[0m\u001b[0;34m\u001b[0m\u001b[0m\n\u001b[0m\u001b[1;32m    461\u001b[0m         \u001b[0;32mif\u001b[0m \u001b[0;32mnot\u001b[0m \u001b[0mreformat\u001b[0m\u001b[0;34m:\u001b[0m\u001b[0;34m\u001b[0m\u001b[0;34m\u001b[0m\u001b[0m\n",
      "\u001b[0;32m~/Documents/FGV/sage-9.2-Ubuntu_20.04-x86_64/SageMath/local/lib/python3.8/site-packages/sage/libs/ecl.pyx\u001b[0m in \u001b[0;36msage.libs.ecl.EclObject.__call__ (build/cythonized/sage/libs/ecl.c:8600)\u001b[0;34m()\u001b[0m\n\u001b[1;32m    851\u001b[0m         \u001b[0mlispargs\u001b[0m \u001b[0;34m=\u001b[0m \u001b[0mEclObject\u001b[0m\u001b[0;34m(\u001b[0m\u001b[0mlist\u001b[0m\u001b[0;34m(\u001b[0m\u001b[0margs\u001b[0m\u001b[0;34m)\u001b[0m\u001b[0;34m)\u001b[0m\u001b[0;34m\u001b[0m\u001b[0;34m\u001b[0m\u001b[0m\n\u001b[0;32m--> 852\u001b[0;31m         \u001b[0;32mreturn\u001b[0m \u001b[0mecl_wrap\u001b[0m\u001b[0;34m(\u001b[0m\u001b[0mecl_safe_apply\u001b[0m\u001b[0;34m(\u001b[0m\u001b[0mself\u001b[0m\u001b[0;34m.\u001b[0m\u001b[0mobj\u001b[0m\u001b[0;34m,\u001b[0m\u001b[0;34m(\u001b[0m\u001b[0;34m<\u001b[0m\u001b[0mEclObject\u001b[0m\u001b[0;34m>\u001b[0m\u001b[0mlispargs\u001b[0m\u001b[0;34m)\u001b[0m\u001b[0;34m.\u001b[0m\u001b[0mobj\u001b[0m\u001b[0;34m)\u001b[0m\u001b[0;34m)\u001b[0m\u001b[0;34m\u001b[0m\u001b[0;34m\u001b[0m\u001b[0m\n\u001b[0m\u001b[1;32m    853\u001b[0m \u001b[0;34m\u001b[0m\u001b[0m\n",
      "\u001b[0;32m~/Documents/FGV/sage-9.2-Ubuntu_20.04-x86_64/SageMath/local/lib/python3.8/site-packages/sage/libs/ecl.pyx\u001b[0m in \u001b[0;36msage.libs.ecl.ecl_safe_apply (build/cythonized/sage/libs/ecl.c:5898)\u001b[0;34m()\u001b[0m\n\u001b[1;32m    364\u001b[0m     \u001b[0;32mif\u001b[0m \u001b[0merror\u001b[0m \u001b[0;34m!=\u001b[0m \u001b[0mNULL\u001b[0m\u001b[0;34m:\u001b[0m\u001b[0;34m\u001b[0m\u001b[0;34m\u001b[0m\u001b[0m\n\u001b[0;32m--> 365\u001b[0;31m         raise RuntimeError(\"ECL says: {}\".format(\n\u001b[0m\u001b[1;32m    366\u001b[0m             ecl_string_to_python(error)))\n",
      "\u001b[0;31mRuntimeError\u001b[0m: ECL says: Maxima asks: Is _SAGE_VAR_X^2*_SAGE_VAR_mu_max^2+(2*_SAGE_VAR_D*_SAGE_VAR_K_s\n                                    -2*_SAGE_VAR_D*_SAGE_VAR_S_f)\n                                    *_SAGE_VAR_X*_SAGE_VAR_Y*_SAGE_VAR_mu_max\n                                   +(_SAGE_VAR_D^2*_SAGE_VAR_S_f^2\n                                    +2*_SAGE_VAR_D^2*_SAGE_VAR_K_s\n                                      *_SAGE_VAR_S_f\n                                    +_SAGE_VAR_D^2*_SAGE_VAR_K_s^2)\n                                    *_SAGE_VAR_Y^2 positive or negative?",
      "\nDuring handling of the above exception, another exception occurred:\n",
      "\u001b[0;31mValueError\u001b[0m                                Traceback (most recent call last)",
      "\u001b[0;32m~/Documents/FGV/sage-9.2-Ubuntu_20.04-x86_64/SageMath/local/lib/python3.8/site-packages/sage/interfaces/interface.py\u001b[0m in \u001b[0;36m__init__\u001b[0;34m(self, parent, value, is_name, name)\u001b[0m\n\u001b[1;32m    718\u001b[0m             \u001b[0;32mtry\u001b[0m\u001b[0;34m:\u001b[0m\u001b[0;34m\u001b[0m\u001b[0;34m\u001b[0m\u001b[0m\n\u001b[0;32m--> 719\u001b[0;31m                 \u001b[0mself\u001b[0m\u001b[0;34m.\u001b[0m\u001b[0m_name\u001b[0m \u001b[0;34m=\u001b[0m \u001b[0mparent\u001b[0m\u001b[0;34m.\u001b[0m\u001b[0m_create\u001b[0m\u001b[0;34m(\u001b[0m\u001b[0mvalue\u001b[0m\u001b[0;34m,\u001b[0m \u001b[0mname\u001b[0m\u001b[0;34m=\u001b[0m\u001b[0mname\u001b[0m\u001b[0;34m)\u001b[0m\u001b[0;34m\u001b[0m\u001b[0;34m\u001b[0m\u001b[0m\n\u001b[0m\u001b[1;32m    720\u001b[0m             \u001b[0;32mexcept\u001b[0m \u001b[0;34m(\u001b[0m\u001b[0mTypeError\u001b[0m\u001b[0;34m,\u001b[0m \u001b[0mRuntimeError\u001b[0m\u001b[0;34m,\u001b[0m \u001b[0mValueError\u001b[0m\u001b[0;34m)\u001b[0m \u001b[0;32mas\u001b[0m \u001b[0mx\u001b[0m\u001b[0;34m:\u001b[0m\u001b[0;34m\u001b[0m\u001b[0;34m\u001b[0m\u001b[0m\n",
      "\u001b[0;32m~/Documents/FGV/sage-9.2-Ubuntu_20.04-x86_64/SageMath/local/lib/python3.8/site-packages/sage/interfaces/maxima_lib.py\u001b[0m in \u001b[0;36m_create\u001b[0;34m(self, value, name)\u001b[0m\n\u001b[1;32m    609\u001b[0m             \u001b[0;32mif\u001b[0m \u001b[0;34m\"Is\"\u001b[0m \u001b[0;32min\u001b[0m \u001b[0ms\u001b[0m\u001b[0;34m:\u001b[0m \u001b[0;31m# Maxima asked for a condition\u001b[0m\u001b[0;34m\u001b[0m\u001b[0;34m\u001b[0m\u001b[0m\n\u001b[0;32m--> 610\u001b[0;31m                 \u001b[0mself\u001b[0m\u001b[0;34m.\u001b[0m\u001b[0m_missing_assumption\u001b[0m\u001b[0;34m(\u001b[0m\u001b[0ms\u001b[0m\u001b[0;34m)\u001b[0m\u001b[0;34m\u001b[0m\u001b[0;34m\u001b[0m\u001b[0m\n\u001b[0m\u001b[1;32m    611\u001b[0m             \u001b[0;32melse\u001b[0m\u001b[0;34m:\u001b[0m\u001b[0;34m\u001b[0m\u001b[0;34m\u001b[0m\u001b[0m\n",
      "\u001b[0;32m~/Documents/FGV/sage-9.2-Ubuntu_20.04-x86_64/SageMath/local/lib/python3.8/site-packages/sage/interfaces/maxima_lib.py\u001b[0m in \u001b[0;36m_missing_assumption\u001b[0;34m(self, errstr)\u001b[0m\n\u001b[1;32m   1034\u001b[0m         \u001b[0moutstr\u001b[0m \u001b[0;34m=\u001b[0m \u001b[0moutstr\u001b[0m\u001b[0;34m.\u001b[0m\u001b[0mreplace\u001b[0m\u001b[0;34m(\u001b[0m\u001b[0;34m'_SAGE_VAR_'\u001b[0m\u001b[0;34m,\u001b[0m\u001b[0;34m''\u001b[0m\u001b[0;34m)\u001b[0m\u001b[0;34m\u001b[0m\u001b[0;34m\u001b[0m\u001b[0m\n\u001b[0;32m-> 1035\u001b[0;31m         \u001b[0;32mraise\u001b[0m \u001b[0mValueError\u001b[0m\u001b[0;34m(\u001b[0m\u001b[0moutstr\u001b[0m\u001b[0;34m)\u001b[0m\u001b[0;34m\u001b[0m\u001b[0;34m\u001b[0m\u001b[0m\n\u001b[0m\u001b[1;32m   1036\u001b[0m \u001b[0;34m\u001b[0m\u001b[0m\n",
      "\u001b[0;31mValueError\u001b[0m: Computation failed since Maxima requested additional constraints; using the 'assume' command before evaluation *may* help (example of legal syntax is 'assume(X^2*mu_max^2+(2*D*K_s\n>0)', see `assume?` for more details)\nIs X^2*mu_max^2+(2*D*K_s\n                                    -2*D*S_f)\n                                    *X*Y*mu_max\n                                   +(D^2*S_f^2\n                                    +2*D^2*K_s\n                                      *S_f\n                                    +D^2*K_s^2)\n                                    *Y^2 positive or negative?",
      "\nDuring handling of the above exception, another exception occurred:\n",
      "\u001b[0;31mTypeError\u001b[0m                                 Traceback (most recent call last)",
      "\u001b[0;32m<ipython-input-30-9eddc681f0ac>\u001b[0m in \u001b[0;36m<module>\u001b[0;34m\u001b[0m\n\u001b[1;32m      4\u001b[0m \u001b[0mS\u001b[0m\u001b[0;34m=\u001b[0m\u001b[0mfunction\u001b[0m\u001b[0;34m(\u001b[0m\u001b[0;34m'S'\u001b[0m\u001b[0;34m)\u001b[0m\u001b[0;34m(\u001b[0m\u001b[0mt\u001b[0m\u001b[0;34m)\u001b[0m\u001b[0;34m\u001b[0m\u001b[0;34m\u001b[0m\u001b[0m\n\u001b[1;32m      5\u001b[0m \u001b[0mdsdt\u001b[0m \u001b[0;34m=\u001b[0m \u001b[0mdiff\u001b[0m\u001b[0;34m(\u001b[0m\u001b[0mS\u001b[0m\u001b[0;34m,\u001b[0m\u001b[0mt\u001b[0m\u001b[0;34m)\u001b[0m\u001b[0;34m==\u001b[0m \u001b[0mD\u001b[0m\u001b[0;34m*\u001b[0m\u001b[0mS_f\u001b[0m\u001b[0;34m-\u001b[0m\u001b[0mD\u001b[0m\u001b[0;34m*\u001b[0m\u001b[0mS\u001b[0m\u001b[0;34m-\u001b[0m\u001b[0;34m(\u001b[0m\u001b[0;34m(\u001b[0m\u001b[0mmu_max\u001b[0m\u001b[0;34m*\u001b[0m\u001b[0mS\u001b[0m\u001b[0;34m/\u001b[0m\u001b[0;34m(\u001b[0m\u001b[0mK_s\u001b[0m\u001b[0;34m+\u001b[0m\u001b[0mS\u001b[0m\u001b[0;34m)\u001b[0m\u001b[0;34m)\u001b[0m\u001b[0;34m*\u001b[0m\u001b[0mX\u001b[0m\u001b[0;34m/\u001b[0m\u001b[0mY\u001b[0m\u001b[0;34m)\u001b[0m\u001b[0;34m\u001b[0m\u001b[0;34m\u001b[0m\u001b[0m\n\u001b[0;32m----> 6\u001b[0;31m \u001b[0msol\u001b[0m \u001b[0;34m=\u001b[0m \u001b[0mdesolve\u001b[0m\u001b[0;34m(\u001b[0m\u001b[0mdsdt\u001b[0m\u001b[0;34m,\u001b[0m\u001b[0mS\u001b[0m\u001b[0;34m,\u001b[0m\u001b[0mivar\u001b[0m\u001b[0;34m=\u001b[0m\u001b[0mt\u001b[0m\u001b[0;34m,\u001b[0m \u001b[0mics\u001b[0m\u001b[0;34m=\u001b[0m\u001b[0;34m[\u001b[0m\u001b[0mInteger\u001b[0m\u001b[0;34m(\u001b[0m\u001b[0;36m0\u001b[0m\u001b[0;34m)\u001b[0m\u001b[0;34m,\u001b[0m\u001b[0mS0\u001b[0m\u001b[0;34m]\u001b[0m\u001b[0;34m)\u001b[0m\u001b[0;34m\u001b[0m\u001b[0;34m\u001b[0m\u001b[0m\n\u001b[0m\u001b[1;32m      7\u001b[0m \u001b[0mshow\u001b[0m\u001b[0;34m(\u001b[0m\u001b[0msol\u001b[0m\u001b[0;34m)\u001b[0m\u001b[0;34m\u001b[0m\u001b[0;34m\u001b[0m\u001b[0m\n",
      "\u001b[0;32m~/Documents/FGV/sage-9.2-Ubuntu_20.04-x86_64/SageMath/local/lib/python3.8/site-packages/sage/calculus/desolvers.py\u001b[0m in \u001b[0;36mdesolve\u001b[0;34m(de, dvar, ics, ivar, show_method, contrib_ode, algorithm)\u001b[0m\n\u001b[1;32m    582\u001b[0m     \u001b[0;31m# we produce string like this\u001b[0m\u001b[0;34m\u001b[0m\u001b[0;34m\u001b[0m\u001b[0;34m\u001b[0m\u001b[0m\n\u001b[1;32m    583\u001b[0m     \u001b[0;31m# ode2('diff(y,x,2)+2*'diff(y,x,1)+y-cos(x),y(x),x)\u001b[0m\u001b[0;34m\u001b[0m\u001b[0;34m\u001b[0m\u001b[0;34m\u001b[0m\u001b[0m\n\u001b[0;32m--> 584\u001b[0;31m     \u001b[0msoln\u001b[0m \u001b[0;34m=\u001b[0m \u001b[0mP\u001b[0m\u001b[0;34m(\u001b[0m\u001b[0mcmd\u001b[0m\u001b[0;34m)\u001b[0m\u001b[0;34m\u001b[0m\u001b[0;34m\u001b[0m\u001b[0m\n\u001b[0m\u001b[1;32m    585\u001b[0m \u001b[0;34m\u001b[0m\u001b[0m\n\u001b[1;32m    586\u001b[0m     \u001b[0;32mif\u001b[0m \u001b[0mstr\u001b[0m\u001b[0;34m(\u001b[0m\u001b[0msoln\u001b[0m\u001b[0;34m)\u001b[0m\u001b[0;34m.\u001b[0m\u001b[0mstrip\u001b[0m\u001b[0;34m(\u001b[0m\u001b[0;34m)\u001b[0m \u001b[0;34m==\u001b[0m \u001b[0;34m'false'\u001b[0m\u001b[0;34m:\u001b[0m\u001b[0;34m\u001b[0m\u001b[0;34m\u001b[0m\u001b[0m\n",
      "\u001b[0;32m~/Documents/FGV/sage-9.2-Ubuntu_20.04-x86_64/SageMath/local/lib/python3.8/site-packages/sage/interfaces/interface.py\u001b[0m in \u001b[0;36m__call__\u001b[0;34m(self, x, name)\u001b[0m\n\u001b[1;32m    294\u001b[0m \u001b[0;34m\u001b[0m\u001b[0m\n\u001b[1;32m    295\u001b[0m         \u001b[0;32mif\u001b[0m \u001b[0misinstance\u001b[0m\u001b[0;34m(\u001b[0m\u001b[0mx\u001b[0m\u001b[0;34m,\u001b[0m \u001b[0mstr\u001b[0m\u001b[0;34m)\u001b[0m\u001b[0;34m:\u001b[0m\u001b[0;34m\u001b[0m\u001b[0;34m\u001b[0m\u001b[0m\n\u001b[0;32m--> 296\u001b[0;31m             \u001b[0;32mreturn\u001b[0m \u001b[0mcls\u001b[0m\u001b[0;34m(\u001b[0m\u001b[0mself\u001b[0m\u001b[0;34m,\u001b[0m \u001b[0mx\u001b[0m\u001b[0;34m,\u001b[0m \u001b[0mname\u001b[0m\u001b[0;34m=\u001b[0m\u001b[0mname\u001b[0m\u001b[0;34m)\u001b[0m\u001b[0;34m\u001b[0m\u001b[0;34m\u001b[0m\u001b[0m\n\u001b[0m\u001b[1;32m    297\u001b[0m         \u001b[0;32mtry\u001b[0m\u001b[0;34m:\u001b[0m\u001b[0;34m\u001b[0m\u001b[0;34m\u001b[0m\u001b[0m\n\u001b[1;32m    298\u001b[0m             \u001b[0;31m# Special methods do not and should not have an option to\u001b[0m\u001b[0;34m\u001b[0m\u001b[0;34m\u001b[0m\u001b[0;34m\u001b[0m\u001b[0m\n",
      "\u001b[0;32m~/Documents/FGV/sage-9.2-Ubuntu_20.04-x86_64/SageMath/local/lib/python3.8/site-packages/sage/interfaces/interface.py\u001b[0m in \u001b[0;36m__init__\u001b[0;34m(self, parent, value, is_name, name)\u001b[0m\n\u001b[1;32m    719\u001b[0m                 \u001b[0mself\u001b[0m\u001b[0;34m.\u001b[0m\u001b[0m_name\u001b[0m \u001b[0;34m=\u001b[0m \u001b[0mparent\u001b[0m\u001b[0;34m.\u001b[0m\u001b[0m_create\u001b[0m\u001b[0;34m(\u001b[0m\u001b[0mvalue\u001b[0m\u001b[0;34m,\u001b[0m \u001b[0mname\u001b[0m\u001b[0;34m=\u001b[0m\u001b[0mname\u001b[0m\u001b[0;34m)\u001b[0m\u001b[0;34m\u001b[0m\u001b[0;34m\u001b[0m\u001b[0m\n\u001b[1;32m    720\u001b[0m             \u001b[0;32mexcept\u001b[0m \u001b[0;34m(\u001b[0m\u001b[0mTypeError\u001b[0m\u001b[0;34m,\u001b[0m \u001b[0mRuntimeError\u001b[0m\u001b[0;34m,\u001b[0m \u001b[0mValueError\u001b[0m\u001b[0;34m)\u001b[0m \u001b[0;32mas\u001b[0m \u001b[0mx\u001b[0m\u001b[0;34m:\u001b[0m\u001b[0;34m\u001b[0m\u001b[0;34m\u001b[0m\u001b[0m\n\u001b[0;32m--> 721\u001b[0;31m                 \u001b[0;32mraise\u001b[0m \u001b[0mTypeError\u001b[0m\u001b[0;34m(\u001b[0m\u001b[0mx\u001b[0m\u001b[0;34m)\u001b[0m\u001b[0;34m\u001b[0m\u001b[0;34m\u001b[0m\u001b[0m\n\u001b[0m\u001b[1;32m    722\u001b[0m \u001b[0;34m\u001b[0m\u001b[0m\n\u001b[1;32m    723\u001b[0m     \u001b[0;32mdef\u001b[0m \u001b[0m_latex_\u001b[0m\u001b[0;34m(\u001b[0m\u001b[0mself\u001b[0m\u001b[0;34m)\u001b[0m\u001b[0;34m:\u001b[0m\u001b[0;34m\u001b[0m\u001b[0;34m\u001b[0m\u001b[0m\n",
      "\u001b[0;31mTypeError\u001b[0m: Computation failed since Maxima requested additional constraints; using the 'assume' command before evaluation *may* help (example of legal syntax is 'assume(X^2*mu_max^2+(2*D*K_s\n>0)', see `assume?` for more details)\nIs X^2*mu_max^2+(2*D*K_s\n                                    -2*D*S_f)\n                                    *X*Y*mu_max\n                                   +(D^2*S_f^2\n                                    +2*D^2*K_s\n                                      *S_f\n                                    +D^2*K_s^2)\n                                    *Y^2 positive or negative?"
     ]
    }
   ],
   "source": [
    "var('t mum_max D_f S Y K_s X D S0')\n",
    "assume(X^2*mu_max^2+(2*D*K_s>0))\n",
    "assumptions()\n",
    "S=function('S')(t)\n",
    "dsdt = diff(S,t)== D*S_f-D*S-((mu_max*S/(K_s+S))*X/Y)\n",
    "sol = desolve(dsdt,S,ivar=t, ics=[0,S0])\n",
    "show(sol)"
   ]
  },
  {
   "cell_type": "code",
   "execution_count": 31,
   "metadata": {},
   "outputs": [],
   "source": [
    "def model_equilibrium(t, y, params):\n",
    "    X, S = y\n",
    "    D, Sf, Y, mumax, Ks = params\n",
    "    return [\n",
    "        (mumax*S/(Ks+S))*X - D*X, #dX/dt\n",
    "        D*Sf - D*S -((mumax*S/(Ks+S))*X/Y) # dS/dt\n",
    "    ]"
   ]
  },
  {
   "cell_type": "code",
   "execution_count": 32,
   "metadata": {},
   "outputs": [],
   "source": [
    "mumax = 1.6   \n",
    "Ks = 1.00     \n",
    "Y = 0.8     \n",
    "Sf = 20.0    \n",
    "D = 1.00\n",
    "#mu = mumax*S/(Ks+S)"
   ]
  },
  {
   "cell_type": "markdown",
   "metadata": {},
   "source": [
    "Equilíbrio 1:"
   ]
  },
  {
   "cell_type": "code",
   "execution_count": 33,
   "metadata": {},
   "outputs": [],
   "source": [
    "T = ode_solver()\n",
    "T.function = model_equilibrium\n",
    "T.algorithm='rk8pd'\n",
    "inits = [0.0, 20.0]\n",
    "tspan = [0,100]\n",
    "T.ode_solve(tspan, inits, num_points=500, params=[D, Sf, Y, mumax, Ks])"
   ]
  },
  {
   "cell_type": "code",
   "execution_count": 34,
   "metadata": {},
   "outputs": [
    {
     "data": {
      "text/html": [
       "<html><script type=\"math/tex; mode=display\">\\newcommand{\\Bold}[1]{\\mathbf{#1}}\\begin{array}{l}\n",
       "\\verb|[[|\\phantom{\\verb!x!}\\verb|0.|\\phantom{\\verb!x!}\\verb|20.]|\\\\\n",
       "\\phantom{\\verb!x!}\\verb|[|\\phantom{\\verb!x!}\\verb|0.|\\phantom{\\verb!x!}\\verb|20.]|\\\\\n",
       "\\phantom{\\verb!x!}\\verb|[|\\phantom{\\verb!x!}\\verb|0.|\\phantom{\\verb!x!}\\verb|20.]|\\\\\n",
       "\\phantom{\\verb!x!}\\verb|...|\\\\\n",
       "\\phantom{\\verb!x!}\\verb|[|\\phantom{\\verb!x!}\\verb|0.|\\phantom{\\verb!x!}\\verb|20.]|\\\\\n",
       "\\phantom{\\verb!x!}\\verb|[|\\phantom{\\verb!x!}\\verb|0.|\\phantom{\\verb!x!}\\verb|20.]|\\\\\n",
       "\\phantom{\\verb!x!}\\verb|[|\\phantom{\\verb!x!}\\verb|0.|\\phantom{\\verb!x!}\\verb|20.]]|\n",
       "\\end{array}</script></html>"
      ],
      "text/latex": [
       "\\begin{math}\n",
       "\\newcommand{\\Bold}[1]{\\mathbf{#1}}\\begin{array}{l}\n",
       "\\verb|[[|\\phantom{\\verb!x!}\\verb|0.|\\phantom{\\verb!x!}\\verb|20.]|\\\\\n",
       "\\phantom{\\verb!x!}\\verb|[|\\phantom{\\verb!x!}\\verb|0.|\\phantom{\\verb!x!}\\verb|20.]|\\\\\n",
       "\\phantom{\\verb!x!}\\verb|[|\\phantom{\\verb!x!}\\verb|0.|\\phantom{\\verb!x!}\\verb|20.]|\\\\\n",
       "\\phantom{\\verb!x!}\\verb|...|\\\\\n",
       "\\phantom{\\verb!x!}\\verb|[|\\phantom{\\verb!x!}\\verb|0.|\\phantom{\\verb!x!}\\verb|20.]|\\\\\n",
       "\\phantom{\\verb!x!}\\verb|[|\\phantom{\\verb!x!}\\verb|0.|\\phantom{\\verb!x!}\\verb|20.]|\\\\\n",
       "\\phantom{\\verb!x!}\\verb|[|\\phantom{\\verb!x!}\\verb|0.|\\phantom{\\verb!x!}\\verb|20.]]|\n",
       "\\end{array}\n",
       "\\end{math}"
      ],
      "text/plain": [
       "array([[ 0., 20.],\n",
       "       [ 0., 20.],\n",
       "       [ 0., 20.],\n",
       "       ...,\n",
       "       [ 0., 20.],\n",
       "       [ 0., 20.],\n",
       "       [ 0., 20.]])"
      ]
     },
     "execution_count": 34,
     "metadata": {},
     "output_type": "execute_result"
    }
   ],
   "source": [
    "def get_sim_array(sol):\n",
    "    sim = np.array([y for t,y in sol])\n",
    "    return sim\n",
    "get_sim_array(T.solution)"
   ]
  },
  {
   "cell_type": "code",
   "execution_count": 35,
   "metadata": {},
   "outputs": [
    {
     "data": {
      "text/html": [
       "<html><script type=\"math/tex; mode=display\">\\newcommand{\\Bold}[1]{\\mathbf{#1}}\\left[X\\left(t\\right) = 0, S\\left(t\\right) = -\\mathit{Sf} e^{\\left(-D t\\right)} + \\mathit{Sf}\\right]</script></html>"
      ],
      "text/latex": [
       "\\begin{math}\n",
       "\\newcommand{\\Bold}[1]{\\mathbf{#1}}\\left[X\\left(t\\right) = 0, S\\left(t\\right) = -\\mathit{Sf} e^{\\left(-D t\\right)} + \\mathit{Sf}\\right]\n",
       "\\end{math}"
      ],
      "text/plain": [
       "[X(t) == 0, S(t) == -Sf*e^(-D*t) + Sf]"
      ]
     },
     "metadata": {},
     "output_type": "display_data"
    }
   ],
   "source": [
    "var('mu D Sf X S mumax Ks')\n",
    "\n",
    "mu==mumax*S/(Ks + S)\n",
    "\n",
    "X = function('X')(t)\n",
    "S = function('S')(t)\n",
    "de1 = diff(X,t) == mu*X - D*X\n",
    "de2 = diff(S,t) == D*Sf - D*S -(mu*X/Y)\n",
    "sol = desolve_system([de1,de2],[X,S],ics=[0,0,0], ivar=t)\n",
    "show(sol)"
   ]
  },
  {
   "cell_type": "code",
   "execution_count": 36,
   "metadata": {},
   "outputs": [
    {
     "data": {
      "text/html": [
       "<html><script type=\"math/tex; mode=display\">\\newcommand{\\Bold}[1]{\\mathbf{#1}}\\left[X\\left(t\\right) = 0, S\\left(t\\right) = -\\mathit{Sf} e^{\\left(-D t\\right)} + \\mathit{Sf}\\right]</script></html>"
      ],
      "text/latex": [
       "\\begin{math}\n",
       "\\newcommand{\\Bold}[1]{\\mathbf{#1}}\\left[X\\left(t\\right) = 0, S\\left(t\\right) = -\\mathit{Sf} e^{\\left(-D t\\right)} + \\mathit{Sf}\\right]\n",
       "\\end{math}"
      ],
      "text/plain": [
       "[X(t) == 0, S(t) == -Sf*e^(-D*t) + Sf]"
      ]
     },
     "metadata": {},
     "output_type": "display_data"
    }
   ],
   "source": [
    "var('mu D Sf X S mumax Ks')\n",
    "\n",
    "mu=mumax*S/(Ks + S)\n",
    "\n",
    "X = function('X')(t)\n",
    "S = function('S')(t)\n",
    "de1 = diff(X,t) == mu*X - D*X\n",
    "de2 = diff(S,t) == D*Sf - D*S -(mu*X/Y)\n",
    "sol = desolve_system([de1,de2],[X,S],ics=[0,0,0], ivar=t)\n",
    "show(sol)"
   ]
  },
  {
   "cell_type": "code",
   "execution_count": null,
   "metadata": {},
   "outputs": [],
   "source": []
  }
 ],
 "metadata": {
  "kernelspec": {
   "display_name": "SageMath 9.2",
   "language": "sage",
   "name": "sagemath"
  },
  "language_info": {
   "codemirror_mode": {
    "name": "ipython",
    "version": 3
   },
   "file_extension": ".py",
   "mimetype": "text/x-python",
   "name": "python",
   "nbconvert_exporter": "python",
   "pygments_lexer": "ipython3",
   "version": "3.8.5"
  }
 },
 "nbformat": 4,
 "nbformat_minor": 4
}
